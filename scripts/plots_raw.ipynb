{
 "cells": [
  {
   "cell_type": "code",
   "execution_count": 173,
   "metadata": {
    "collapsed": true
   },
   "outputs": [],
   "source": [
    "# making buffers ! - first use geometric, later base on transport distance?\n",
    "\n",
    "# First, load packages\n",
    "import pandas as pd\n",
    "import os\n",
    "import numpy as np\n",
    "import shapely as sp\n",
    "\n",
    "import matplotlib.pyplot as plt\n",
    "import geopandas as gpd\n",
    "from geopandas import GeoSeries, GeoDataFrame\n",
    "# only for jupyter nb to show plots inline\n",
    "%matplotlib inline \n",
    "\n",
    "#set wd\n",
    "os.chdir(\"/Users/anayahall/projects/grapevine\")\n",
    "\n",
    "from scripts.fxns import epsg_meters\n",
    "\n",
    "def epsg_meters(gdf, proj=3310):\n",
    "    g = gdf.copy()\n",
    "    g = g.to_crs(epsg=proj)\n",
    "    return g"
   ]
  },
  {
   "cell_type": "code",
   "execution_count": 188,
   "metadata": {},
   "outputs": [
    {
     "data": {
      "text/plain": [
       "{'init': 'epsg:3310', 'no_defs': True}"
      ]
     },
     "execution_count": 188,
     "metadata": {},
     "output_type": "execute_result"
    }
   ],
   "source": [
    "### LOAD ALL DATA\n",
    "\n",
    "# Load SWIS DATA\n",
    "swis_proj =  gpd.read_file(\"data/clean/clean_swis.shp\")\n",
    "\n",
    "# LOAD COUNTY SHAPEFILE \n",
    "CA_proj = gpd.read_file(\"data/raw/CA_Counties/CA_Counties_TIGER2016.shp\")\n",
    "# print(\"Ca_proj crs: \", CA_proj.crs)\n",
    "CA_proj.head()\n",
    "\n",
    "# LOAD BIOMASS DATA\n",
    "# waste_proj = gpd.read_file(\"data/clean/techbiomass_pts.shp\")\n",
    "waste_proj = gpd.read_file(\"data/clean/grossbiomass_pts.shp\")\n",
    "\n",
    "#CONVERT TO METERS!!\n",
    "swis = epsg_meters(swis_proj)\n",
    "\n",
    "swis.crs\n",
    "\n",
    "# load census tract shapefile ? might use for elsewhere?\n",
    "# CA = gpd.read_file(\"data/raw/tl_2018_06_tract/tl_2018_06_tract.shp\")"
   ]
  },
  {
   "cell_type": "code",
   "execution_count": 222,
   "metadata": {},
   "outputs": [
    {
     "name": "stderr",
     "output_type": "stream",
     "text": [
      "/Users/anayahall/anaconda/lib/python3.6/site-packages/ipykernel_launcher.py:14: SettingWithCopyWarning: \n",
      "A value is trying to be set on a copy of a slice from a DataFrame.\n",
      "Try using .loc[row_indexer,col_indexer] = value instead\n",
      "\n",
      "See the caveats in the documentation: http://pandas.pydata.org/pandas-docs/stable/indexing.html#indexing-view-versus-copy\n",
      "  \n",
      "/Users/anayahall/anaconda/lib/python3.6/site-packages/ipykernel_launcher.py:15: SettingWithCopyWarning: \n",
      "A value is trying to be set on a copy of a slice from a DataFrame.\n",
      "Try using .loc[row_indexer,col_indexer] = value instead\n",
      "\n",
      "See the caveats in the documentation: http://pandas.pydata.org/pandas-docs/stable/indexing.html#indexing-view-versus-copy\n",
      "  from ipykernel import kernelapp as app\n"
     ]
    },
    {
     "data": {
      "text/plain": [
       "County\n",
       "Alameda      2.282809e+06\n",
       "Alpine       3.010265e+05\n",
       "Amador       9.384114e+05\n",
       "Butte        2.342253e+06\n",
       "Calaveras    1.605504e+06\n",
       "Name: BDTons, dtype: float64"
      ]
     },
     "execution_count": 222,
     "metadata": {},
     "output_type": "execute_result"
    }
   ],
   "source": [
    "waste = pd.read_csv(\"data/raw/biomass.inventory.technical.csv\")\n",
    "waste.columns = ['County', 'Feedstock', 'BDTons', 'year', 'Category']\n",
    "# waste.head()\n",
    "\n",
    "ofmsw = waste[waste['Category'] == \"organic fraction municipal solid waste\"]\n",
    "# ofmsw = msw[(msw['Feedstock'] == \"FOOD\") | (msw['Feedstock'] == \"GREEN\")]\n",
    "\n",
    "fw_mc = 0.7\n",
    "gw_mc = 0.5\n",
    "\n",
    "fw = ofmsw[ofmsw['Feedstock'] == \"FOOD\"]\n",
    "gw = ofmsw[ofmsw['Feedstock'] == \"GREEN\"]\n",
    "\n",
    "fw['WetTons'] = fw['BDTons'] * (1 + fw_mc)\n",
    "gw['WetTons'] = gw['BDTons'] * (1 + gw_mc)\n",
    "\n",
    "ow = fw.append(gw)\n",
    "ow\n",
    "\n",
    "all_waste = waste.groupby(['County'])['BDTons'].sum()\n",
    "all_waste.head()"
   ]
  },
  {
   "cell_type": "code",
   "execution_count": 176,
   "metadata": {},
   "outputs": [],
   "source": [
    "# df.loc[df['product']=='a', ['market_penetration_rate', 'success_rate']] * 100\n",
    "# ofmsw.loc[ofmsw[['Feedstock']] == \"FOOD\", [['BDTons']]] *= (1 + fw_mc)\n",
    "# of2.head()"
   ]
  },
  {
   "cell_type": "code",
   "execution_count": 177,
   "metadata": {},
   "outputs": [
    {
     "data": {
      "text/html": [
       "<div>\n",
       "<style>\n",
       "    .dataframe thead tr:only-child th {\n",
       "        text-align: right;\n",
       "    }\n",
       "\n",
       "    .dataframe thead th {\n",
       "        text-align: left;\n",
       "    }\n",
       "\n",
       "    .dataframe tbody tr th {\n",
       "        vertical-align: top;\n",
       "    }\n",
       "</style>\n",
       "<table border=\"1\" class=\"dataframe\">\n",
       "  <thead>\n",
       "    <tr style=\"text-align: right;\">\n",
       "      <th></th>\n",
       "      <th>County</th>\n",
       "      <th>WetTons</th>\n",
       "    </tr>\n",
       "  </thead>\n",
       "  <tbody>\n",
       "    <tr>\n",
       "      <th>0</th>\n",
       "      <td>Alameda</td>\n",
       "      <td>614940.261446</td>\n",
       "    </tr>\n",
       "    <tr>\n",
       "      <th>1</th>\n",
       "      <td>Alpine</td>\n",
       "      <td>690.464297</td>\n",
       "    </tr>\n",
       "    <tr>\n",
       "      <th>2</th>\n",
       "      <td>Amador</td>\n",
       "      <td>13625.438116</td>\n",
       "    </tr>\n",
       "    <tr>\n",
       "      <th>3</th>\n",
       "      <td>Butte</td>\n",
       "      <td>94274.440388</td>\n",
       "    </tr>\n",
       "    <tr>\n",
       "      <th>4</th>\n",
       "      <td>Calaveras</td>\n",
       "      <td>16364.637787</td>\n",
       "    </tr>\n",
       "    <tr>\n",
       "      <th>5</th>\n",
       "      <td>Colusa</td>\n",
       "      <td>11138.509552</td>\n",
       "    </tr>\n",
       "    <tr>\n",
       "      <th>6</th>\n",
       "      <td>Contra Costa</td>\n",
       "      <td>384663.552963</td>\n",
       "    </tr>\n",
       "    <tr>\n",
       "      <th>7</th>\n",
       "      <td>Del Norte</td>\n",
       "      <td>8353.145000</td>\n",
       "    </tr>\n",
       "    <tr>\n",
       "      <th>8</th>\n",
       "      <td>El Dorado</td>\n",
       "      <td>72235.949355</td>\n",
       "    </tr>\n",
       "    <tr>\n",
       "      <th>9</th>\n",
       "      <td>Fresno</td>\n",
       "      <td>417632.859344</td>\n",
       "    </tr>\n",
       "  </tbody>\n",
       "</table>\n",
       "</div>"
      ],
      "text/plain": [
       "         County        WetTons\n",
       "0       Alameda  614940.261446\n",
       "1        Alpine     690.464297\n",
       "2        Amador   13625.438116\n",
       "3         Butte   94274.440388\n",
       "4     Calaveras   16364.637787\n",
       "5        Colusa   11138.509552\n",
       "6  Contra Costa  384663.552963\n",
       "7     Del Norte    8353.145000\n",
       "8     El Dorado   72235.949355\n",
       "9        Fresno  417632.859344"
      ]
     },
     "execution_count": 177,
     "metadata": {},
     "output_type": "execute_result"
    }
   ],
   "source": [
    "ow_sum = ow.groupby(['County'], as_index = False)['WetTons'].sum()\n",
    "ow_sum.head(10)\n",
    "# msw['biomass.feedstock'].value_counts()\n",
    "#subset to just food\n",
    "# foodwaste = waste[(waste['biomass.feedstock'] == \"FOOD\") & (waste['year'] == 2014)]"
   ]
  },
  {
   "cell_type": "code",
   "execution_count": 178,
   "metadata": {
    "collapsed": true
   },
   "outputs": [],
   "source": [
    "CA = epsg_meters(CA_proj)\n",
    "# CA.crs"
   ]
  },
  {
   "cell_type": "code",
   "execution_count": 190,
   "metadata": {},
   "outputs": [
    {
     "data": {
      "text/plain": [
       "{'init': 'epsg:3310', 'no_defs': True}"
      ]
     },
     "execution_count": 190,
     "metadata": {},
     "output_type": "execute_result"
    }
   ],
   "source": [
    "swis = epsg_meters(swis_proj)\n",
    "swis.crs\n"
   ]
  },
  {
   "cell_type": "code",
   "execution_count": 180,
   "metadata": {
    "collapsed": true
   },
   "outputs": [],
   "source": [
    "# add buffers - should be in meters now.....\n",
    "swis['buffers'] = swis.buffer(15000)\n",
    "# one degree is about 85km \n",
    "\n",
    "# gdf.set_geometry('buffers').plot()"
   ]
  },
  {
   "cell_type": "code",
   "execution_count": 181,
   "metadata": {},
   "outputs": [],
   "source": [
    "# f, ax = plt.subplots(1)\n",
    "# CA.plot(ax = ax, cmap='Set3', linewidth=0.1)\n",
    "# swis.set_geometry('buffers').plot(ax = ax, color=\"blue\", alpha=\"0.1\")\n",
    "# swis.set_geometry('geometry').plot(ax = ax, color=\"black\", marker = '*', markersize= 1)\n",
    "# ax.axis('off')\n",
    "# ax.set_title('Composting Permits in CA', fontdict={'fontsize': '12', 'fontweight' : '3'})\n",
    "# plt.savefig(\"maps/CAwbuffers.png\", dpi=300)"
   ]
  },
  {
   "cell_type": "code",
   "execution_count": 182,
   "metadata": {},
   "outputs": [],
   "source": [
    "# attempt to nest plotting\n",
    "# swis.plot(ax=CA.plot(cmap='Set3', figsize=(10, 6)), marker='o', markersize=15)\n",
    "# ax.axis('off')\n",
    "# ax.set_title('Composting Permits in CA', fontdict={'fontsize': '12', 'fontweight' : '3'})\n",
    "# plt.savefig(\"maps/map_export.png\", dpi=300)"
   ]
  },
  {
   "cell_type": "code",
   "execution_count": 183,
   "metadata": {},
   "outputs": [
    {
     "data": {
      "image/png": "[encoded data removed]",
      "text/plain": [
       "<matplotlib.figure.Figure at 0x11ca6fb38>"
      ]
     },
     "metadata": {},
     "output_type": "display_data"
    }
   ],
   "source": [
    "# better plot, with title\n",
    "f, ax = plt.subplots(1)\n",
    "CA.plot(ax = ax, cmap='Set3', figsize = (10,6), linewidth=0.1)\n",
    "swis.plot(ax = ax, markersize = swis.cap_m3/10000, marker = 'o', color = 'black', alpha=.7, linewidth=0)\n",
    "ax.axis('off')\n",
    "ax.set_title('Composting Permits in CA', fontdict={'fontsize': '12', 'fontweight' : '3'})\n",
    "plt.savefig(\"maps/FacilitiesbyCapacity.png\", dpi=300)"
   ]
  },
  {
   "cell_type": "code",
   "execution_count": 191,
   "metadata": {},
   "outputs": [
    {
     "data": {
      "text/html": [
       "<div>\n",
       "<style>\n",
       "    .dataframe thead tr:only-child th {\n",
       "        text-align: right;\n",
       "    }\n",
       "\n",
       "    .dataframe thead th {\n",
       "        text-align: left;\n",
       "    }\n",
       "\n",
       "    .dataframe tbody tr th {\n",
       "        vertical-align: top;\n",
       "    }\n",
       "</style>\n",
       "<table border=\"1\" class=\"dataframe\">\n",
       "  <thead>\n",
       "    <tr style=\"text-align: right;\">\n",
       "      <th></th>\n",
       "      <th>STATEFP</th>\n",
       "      <th>COUNTYFP</th>\n",
       "      <th>COUNTYNS</th>\n",
       "      <th>GEOID</th>\n",
       "      <th>NAME</th>\n",
       "      <th>NAMELSAD</th>\n",
       "      <th>LSAD</th>\n",
       "      <th>CLASSFP</th>\n",
       "      <th>MTFCC</th>\n",
       "      <th>CSAFP</th>\n",
       "      <th>CBSAFP</th>\n",
       "      <th>METDIVFP</th>\n",
       "      <th>FUNCSTAT</th>\n",
       "      <th>ALAND</th>\n",
       "      <th>AWATER</th>\n",
       "      <th>INTPTLAT</th>\n",
       "      <th>INTPTLON</th>\n",
       "      <th>geometry</th>\n",
       "      <th>County</th>\n",
       "      <th>cap_tons</th>\n",
       "    </tr>\n",
       "  </thead>\n",
       "  <tbody>\n",
       "    <tr>\n",
       "      <th>0</th>\n",
       "      <td>06</td>\n",
       "      <td>083</td>\n",
       "      <td>00277306</td>\n",
       "      <td>06083</td>\n",
       "      <td>Santa Barbara</td>\n",
       "      <td>Santa Barbara County</td>\n",
       "      <td>06</td>\n",
       "      <td>H1</td>\n",
       "      <td>G4020</td>\n",
       "      <td>None</td>\n",
       "      <td>42200</td>\n",
       "      <td>None</td>\n",
       "      <td>A</td>\n",
       "      <td>7084000598</td>\n",
       "      <td>2729814515</td>\n",
       "      <td>+34.5370572</td>\n",
       "      <td>-120.0399729</td>\n",
       "      <td>(POLYGON ((-53692.14841964634 -435068.90484861...</td>\n",
       "      <td>Santa Barbara</td>\n",
       "      <td>91857.767296</td>\n",
       "    </tr>\n",
       "    <tr>\n",
       "      <th>1</th>\n",
       "      <td>06</td>\n",
       "      <td>111</td>\n",
       "      <td>00277320</td>\n",
       "      <td>06111</td>\n",
       "      <td>Ventura</td>\n",
       "      <td>Ventura County</td>\n",
       "      <td>06</td>\n",
       "      <td>H1</td>\n",
       "      <td>G4020</td>\n",
       "      <td>348</td>\n",
       "      <td>37100</td>\n",
       "      <td>None</td>\n",
       "      <td>A</td>\n",
       "      <td>4773390489</td>\n",
       "      <td>945942791</td>\n",
       "      <td>+34.3587415</td>\n",
       "      <td>-119.1331432</td>\n",
       "      <td>(POLYGON ((33908.12392894991 -526703.193930760...</td>\n",
       "      <td>Ventura</td>\n",
       "      <td>6481.027796</td>\n",
       "    </tr>\n",
       "    <tr>\n",
       "      <th>2</th>\n",
       "      <td>06</td>\n",
       "      <td>037</td>\n",
       "      <td>00277283</td>\n",
       "      <td>06037</td>\n",
       "      <td>Los Angeles</td>\n",
       "      <td>Los Angeles County</td>\n",
       "      <td>06</td>\n",
       "      <td>H1</td>\n",
       "      <td>G4020</td>\n",
       "      <td>348</td>\n",
       "      <td>31080</td>\n",
       "      <td>31084</td>\n",
       "      <td>A</td>\n",
       "      <td>10510651024</td>\n",
       "      <td>1794730436</td>\n",
       "      <td>+34.1963983</td>\n",
       "      <td>-118.2618616</td>\n",
       "      <td>(POLYGON ((123902.3558812202 -503236.488604530...</td>\n",
       "      <td>Los Angeles</td>\n",
       "      <td>143672.041424</td>\n",
       "    </tr>\n",
       "    <tr>\n",
       "      <th>3</th>\n",
       "      <td>06</td>\n",
       "      <td>097</td>\n",
       "      <td>01657246</td>\n",
       "      <td>06097</td>\n",
       "      <td>Sonoma</td>\n",
       "      <td>Sonoma County</td>\n",
       "      <td>06</td>\n",
       "      <td>H1</td>\n",
       "      <td>G4020</td>\n",
       "      <td>488</td>\n",
       "      <td>42220</td>\n",
       "      <td>None</td>\n",
       "      <td>A</td>\n",
       "      <td>4081437574</td>\n",
       "      <td>497508807</td>\n",
       "      <td>+38.5251824</td>\n",
       "      <td>-122.9261095</td>\n",
       "      <td>POLYGON ((-256278.6441238033 37049.10538577149...</td>\n",
       "      <td>Sonoma</td>\n",
       "      <td>38209.424026</td>\n",
       "    </tr>\n",
       "    <tr>\n",
       "      <th>4</th>\n",
       "      <td>06</td>\n",
       "      <td>073</td>\n",
       "      <td>00277301</td>\n",
       "      <td>06073</td>\n",
       "      <td>San Diego</td>\n",
       "      <td>San Diego County</td>\n",
       "      <td>06</td>\n",
       "      <td>H1</td>\n",
       "      <td>G4020</td>\n",
       "      <td>None</td>\n",
       "      <td>41740</td>\n",
       "      <td>None</td>\n",
       "      <td>A</td>\n",
       "      <td>10895149811</td>\n",
       "      <td>826195031</td>\n",
       "      <td>+33.0236041</td>\n",
       "      <td>-116.7761174</td>\n",
       "      <td>POLYGON ((239171.2658717657 -533898.4040978756...</td>\n",
       "      <td>San Diego</td>\n",
       "      <td>210960.540966</td>\n",
       "    </tr>\n",
       "  </tbody>\n",
       "</table>\n",
       "</div>"
      ],
      "text/plain": [
       "  STATEFP COUNTYFP  COUNTYNS  GEOID           NAME              NAMELSAD LSAD  \\\n",
       "0      06      083  00277306  06083  Santa Barbara  Santa Barbara County   06   \n",
       "1      06      111  00277320  06111        Ventura        Ventura County   06   \n",
       "2      06      037  00277283  06037    Los Angeles    Los Angeles County   06   \n",
       "3      06      097  01657246  06097         Sonoma         Sonoma County   06   \n",
       "4      06      073  00277301  06073      San Diego      San Diego County   06   \n",
       "\n",
       "  CLASSFP  MTFCC CSAFP CBSAFP METDIVFP FUNCSTAT        ALAND      AWATER  \\\n",
       "0      H1  G4020  None  42200     None        A   7084000598  2729814515   \n",
       "1      H1  G4020   348  37100     None        A   4773390489   945942791   \n",
       "2      H1  G4020   348  31080    31084        A  10510651024  1794730436   \n",
       "3      H1  G4020   488  42220     None        A   4081437574   497508807   \n",
       "4      H1  G4020  None  41740     None        A  10895149811   826195031   \n",
       "\n",
       "      INTPTLAT      INTPTLON  \\\n",
       "0  +34.5370572  -120.0399729   \n",
       "1  +34.3587415  -119.1331432   \n",
       "2  +34.1963983  -118.2618616   \n",
       "3  +38.5251824  -122.9261095   \n",
       "4  +33.0236041  -116.7761174   \n",
       "\n",
       "                                            geometry         County  \\\n",
       "0  (POLYGON ((-53692.14841964634 -435068.90484861...  Santa Barbara   \n",
       "1  (POLYGON ((33908.12392894991 -526703.193930760...        Ventura   \n",
       "2  (POLYGON ((123902.3558812202 -503236.488604530...    Los Angeles   \n",
       "3  POLYGON ((-256278.6441238033 37049.10538577149...         Sonoma   \n",
       "4  POLYGON ((239171.2658717657 -533898.4040978756...      San Diego   \n",
       "\n",
       "        cap_tons  \n",
       "0   91857.767296  \n",
       "1    6481.027796  \n",
       "2  143672.041424  \n",
       "3   38209.424026  \n",
       "4  210960.540966  "
      ]
     },
     "execution_count": 191,
     "metadata": {},
     "output_type": "execute_result"
    }
   ],
   "source": [
    "# make gdf for plotting capacity by county \n",
    "CA[\"County\"] = CA[\"NAME\"]\n",
    "swis_joined = pd.merge(swis, CA, on = \"County\")\n",
    "\n",
    "# turn capacity from cubic meters into tons --> m3 * (1yd3/0.765m3) * (0.386ton/m3)\n",
    "swis_joined['cap_tons'] = swis_joined['cap_m3'] * (1/0.765) * (0.386)\n",
    "swis_joined.head()\n",
    "\n",
    "# #sum capacity by county\n",
    "swis_grouped = pd.DataFrame(swis_joined.groupby(['County'], as_index = False)['cap_tons'].sum())\n",
    "# remerge with CA shapefile data\n",
    "capmap = pd.merge(CA, swis_grouped, on = \"County\")\n",
    "capmap.head()"
   ]
  },
  {
   "cell_type": "code",
   "execution_count": 185,
   "metadata": {},
   "outputs": [
    {
     "data": {
      "text/html": [
       "<div>\n",
       "<style>\n",
       "    .dataframe thead tr:only-child th {\n",
       "        text-align: right;\n",
       "    }\n",
       "\n",
       "    .dataframe thead th {\n",
       "        text-align: left;\n",
       "    }\n",
       "\n",
       "    .dataframe tbody tr th {\n",
       "        vertical-align: top;\n",
       "    }\n",
       "</style>\n",
       "<table border=\"1\" class=\"dataframe\">\n",
       "  <thead>\n",
       "    <tr style=\"text-align: right;\">\n",
       "      <th></th>\n",
       "      <th>STATEFP</th>\n",
       "      <th>COUNTYFP</th>\n",
       "      <th>COUNTYNS</th>\n",
       "      <th>GEOID</th>\n",
       "      <th>NAME</th>\n",
       "      <th>NAMELSAD</th>\n",
       "      <th>LSAD</th>\n",
       "      <th>CLASSFP</th>\n",
       "      <th>MTFCC</th>\n",
       "      <th>CSAFP</th>\n",
       "      <th>CBSAFP</th>\n",
       "      <th>METDIVFP</th>\n",
       "      <th>FUNCSTAT</th>\n",
       "      <th>ALAND</th>\n",
       "      <th>AWATER</th>\n",
       "      <th>INTPTLAT</th>\n",
       "      <th>INTPTLON</th>\n",
       "      <th>geometry</th>\n",
       "      <th>County</th>\n",
       "      <th>WetTons</th>\n",
       "    </tr>\n",
       "  </thead>\n",
       "  <tbody>\n",
       "    <tr>\n",
       "      <th>0</th>\n",
       "      <td>06</td>\n",
       "      <td>091</td>\n",
       "      <td>00277310</td>\n",
       "      <td>06091</td>\n",
       "      <td>Sierra</td>\n",
       "      <td>Sierra County</td>\n",
       "      <td>06</td>\n",
       "      <td>H1</td>\n",
       "      <td>G4020</td>\n",
       "      <td>None</td>\n",
       "      <td>None</td>\n",
       "      <td>None</td>\n",
       "      <td>A</td>\n",
       "      <td>2468694587</td>\n",
       "      <td>23299110</td>\n",
       "      <td>+39.5769252</td>\n",
       "      <td>-120.5219926</td>\n",
       "      <td>POLYGON ((-56192.57028813594 186608.4199908176...</td>\n",
       "      <td>Sierra</td>\n",
       "      <td>1339.660509</td>\n",
       "    </tr>\n",
       "    <tr>\n",
       "      <th>1</th>\n",
       "      <td>06</td>\n",
       "      <td>067</td>\n",
       "      <td>00277298</td>\n",
       "      <td>06067</td>\n",
       "      <td>Sacramento</td>\n",
       "      <td>Sacramento County</td>\n",
       "      <td>06</td>\n",
       "      <td>H1</td>\n",
       "      <td>G4020</td>\n",
       "      <td>472</td>\n",
       "      <td>40900</td>\n",
       "      <td>None</td>\n",
       "      <td>A</td>\n",
       "      <td>2499183617</td>\n",
       "      <td>76073827</td>\n",
       "      <td>+38.4500114</td>\n",
       "      <td>-121.3404409</td>\n",
       "      <td>POLYGON ((-103238.272692511 78232.45042174123,...</td>\n",
       "      <td>Sacramento</td>\n",
       "      <td>636621.532077</td>\n",
       "    </tr>\n",
       "    <tr>\n",
       "      <th>2</th>\n",
       "      <td>06</td>\n",
       "      <td>083</td>\n",
       "      <td>00277306</td>\n",
       "      <td>06083</td>\n",
       "      <td>Santa Barbara</td>\n",
       "      <td>Santa Barbara County</td>\n",
       "      <td>06</td>\n",
       "      <td>H1</td>\n",
       "      <td>G4020</td>\n",
       "      <td>None</td>\n",
       "      <td>42200</td>\n",
       "      <td>None</td>\n",
       "      <td>A</td>\n",
       "      <td>7084000598</td>\n",
       "      <td>2729814515</td>\n",
       "      <td>+34.5370572</td>\n",
       "      <td>-120.0399729</td>\n",
       "      <td>(POLYGON ((-53692.14841964634 -435068.90484861...</td>\n",
       "      <td>Santa Barbara</td>\n",
       "      <td>187819.410078</td>\n",
       "    </tr>\n",
       "    <tr>\n",
       "      <th>3</th>\n",
       "      <td>06</td>\n",
       "      <td>009</td>\n",
       "      <td>01675885</td>\n",
       "      <td>06009</td>\n",
       "      <td>Calaveras</td>\n",
       "      <td>Calaveras County</td>\n",
       "      <td>06</td>\n",
       "      <td>H1</td>\n",
       "      <td>G4020</td>\n",
       "      <td>None</td>\n",
       "      <td>None</td>\n",
       "      <td>None</td>\n",
       "      <td>A</td>\n",
       "      <td>2641820834</td>\n",
       "      <td>43806026</td>\n",
       "      <td>+38.1838996</td>\n",
       "      <td>-120.5614415</td>\n",
       "      <td>POLYGON ((-55079.94444234047 36283.02501270594...</td>\n",
       "      <td>Calaveras</td>\n",
       "      <td>16364.637787</td>\n",
       "    </tr>\n",
       "    <tr>\n",
       "      <th>4</th>\n",
       "      <td>06</td>\n",
       "      <td>111</td>\n",
       "      <td>00277320</td>\n",
       "      <td>06111</td>\n",
       "      <td>Ventura</td>\n",
       "      <td>Ventura County</td>\n",
       "      <td>06</td>\n",
       "      <td>H1</td>\n",
       "      <td>G4020</td>\n",
       "      <td>348</td>\n",
       "      <td>37100</td>\n",
       "      <td>None</td>\n",
       "      <td>A</td>\n",
       "      <td>4773390489</td>\n",
       "      <td>945942791</td>\n",
       "      <td>+34.3587415</td>\n",
       "      <td>-119.1331432</td>\n",
       "      <td>(POLYGON ((33908.12392894991 -526703.193930760...</td>\n",
       "      <td>Ventura</td>\n",
       "      <td>420993.324626</td>\n",
       "    </tr>\n",
       "  </tbody>\n",
       "</table>\n",
       "</div>"
      ],
      "text/plain": [
       "  STATEFP COUNTYFP  COUNTYNS  GEOID           NAME              NAMELSAD LSAD  \\\n",
       "0      06      091  00277310  06091         Sierra         Sierra County   06   \n",
       "1      06      067  00277298  06067     Sacramento     Sacramento County   06   \n",
       "2      06      083  00277306  06083  Santa Barbara  Santa Barbara County   06   \n",
       "3      06      009  01675885  06009      Calaveras      Calaveras County   06   \n",
       "4      06      111  00277320  06111        Ventura        Ventura County   06   \n",
       "\n",
       "  CLASSFP  MTFCC CSAFP CBSAFP METDIVFP FUNCSTAT       ALAND      AWATER  \\\n",
       "0      H1  G4020  None   None     None        A  2468694587    23299110   \n",
       "1      H1  G4020   472  40900     None        A  2499183617    76073827   \n",
       "2      H1  G4020  None  42200     None        A  7084000598  2729814515   \n",
       "3      H1  G4020  None   None     None        A  2641820834    43806026   \n",
       "4      H1  G4020   348  37100     None        A  4773390489   945942791   \n",
       "\n",
       "      INTPTLAT      INTPTLON  \\\n",
       "0  +39.5769252  -120.5219926   \n",
       "1  +38.4500114  -121.3404409   \n",
       "2  +34.5370572  -120.0399729   \n",
       "3  +38.1838996  -120.5614415   \n",
       "4  +34.3587415  -119.1331432   \n",
       "\n",
       "                                            geometry         County  \\\n",
       "0  POLYGON ((-56192.57028813594 186608.4199908176...         Sierra   \n",
       "1  POLYGON ((-103238.272692511 78232.45042174123,...     Sacramento   \n",
       "2  (POLYGON ((-53692.14841964634 -435068.90484861...  Santa Barbara   \n",
       "3  POLYGON ((-55079.94444234047 36283.02501270594...      Calaveras   \n",
       "4  (POLYGON ((33908.12392894991 -526703.193930760...        Ventura   \n",
       "\n",
       "         WetTons  \n",
       "0    1339.660509  \n",
       "1  636621.532077  \n",
       "2  187819.410078  \n",
       "3   16364.637787  \n",
       "4  420993.324626  "
      ]
     },
     "execution_count": 185,
     "metadata": {},
     "output_type": "execute_result"
    }
   ],
   "source": [
    "# foodwaste[\"County\"] = foodwaste[\"COUNTY\"]\n",
    "# ow.rename(columns={'COUNTY':'County'}, \n",
    "#                  inplace=True)\n",
    "# ow_sum.head()\n",
    "owmap = pd.merge(CA, ow_sum, on = \"County\")\n",
    "owmap.head()"
   ]
  },
  {
   "cell_type": "code",
   "execution_count": 186,
   "metadata": {
    "collapsed": true
   },
   "outputs": [],
   "source": [
    "# ow.sort_values(by=['disposal.yields'])"
   ]
  },
  {
   "cell_type": "code",
   "execution_count": 187,
   "metadata": {
    "collapsed": true
   },
   "outputs": [],
   "source": [
    "# swis.crs\n",
    "# capmap.crs\n",
    "# CA.crs\n",
    "# swis[swis['County'] == \"San Bernardino\"]"
   ]
  },
  {
   "cell_type": "code",
   "execution_count": 192,
   "metadata": {},
   "outputs": [
    {
     "data": {
      "image/png": "[encoded data removed]",
      "text/plain": [
       "<matplotlib.figure.Figure at 0x11cd3f390>"
      ]
     },
     "metadata": {},
     "output_type": "display_data"
    }
   ],
   "source": [
    "#### PLOT CAPACITY BY COUNTY #####\n",
    "plotvar = capmap['cap_tons']\n",
    "\n",
    "# before plotting prep legend\n",
    "c = []\n",
    "for i in [10, 25, 50, 75]:\n",
    "    c.append(int(round(np.percentile(plotvar, i), -3)))\n",
    "\n",
    "# Map Capacity by County\n",
    "f, ax = plt.subplots(1)\n",
    "CA.plot(ax = ax, color = \"white\", figsize = (10,10), linewidth=0.1, edgecolor = \"black\")\n",
    "capmap.plot(ax = ax, column = plotvar, cmap = \"Oranges\", legend = True)\n",
    "swis.set_geometry('geometry').plot(ax = ax, markersize = swis_joined.cap_tons/10000, marker = 'o', \n",
    "                                  legend = True, color = 'black', alpha=.7, linewidth=0)\n",
    "ax.axis('off')\n",
    "ax.set_title('Composting Capacity by County (tons)', fontdict={'fontsize': '12', 'fontweight' : '3'})\n",
    "\n",
    "l1 = plt.scatter([],[], s=c[0]/1000, edgecolors='none', color = \"black\")\n",
    "l2 = plt.scatter([],[], s=c[1]/1000, edgecolors='none', color = \"black\")\n",
    "l3 = plt.scatter([],[], s=c[2]/1000, edgecolors='none', color = \"black\")\n",
    "l4 = plt.scatter([],[], s=c[3]/1000, edgecolors='none', color = \"black\")\n",
    "\n",
    "labels = [str(c[0]), str(c[1]), str(c[2]), str(c[3])]\n",
    "labels = [str(c[0]), str(c[1]), \"35000\", \"75000\"]\n",
    "\n",
    "leg = plt.legend([l1, l2, l3, l4], labels, ncol = 1, frameon=False, fontsize=10,\n",
    "handlelength=2, loc = 1, borderpad = 1,\n",
    "handletextpad=1, title='Facility Size', scatterpoints = 1)\n",
    "\n",
    "\n",
    "plt.savefig(\"maps/CapacitybyCounty.png\", dpi=300)"
   ]
  },
  {
   "cell_type": "code",
   "execution_count": 196,
   "metadata": {},
   "outputs": [
    {
     "data": {
      "image/png": "[encoded data removed]",
      "text/plain": [
       "<matplotlib.figure.Figure at 0x11cfe1438>"
      ]
     },
     "metadata": {},
     "output_type": "display_data"
    }
   ],
   "source": [
    "#### PLOT ORGANIC WASTE GENERATION BY COUNTY #####\n",
    "plotvar = np.sqrt(owmap['WetTons'])\n",
    "# column.sort_values()\n",
    "# owmap['disposal.yields']\n",
    "\n",
    "markervar= swis_joined.cap_tons/10000\n",
    "\n",
    "c = []\n",
    "for i in [10, 25, 50, 75]:\n",
    "    c.append(int(round(np.percentile(markervar, i), -3)))\n",
    "\n",
    "f, ax = plt.subplots()\n",
    "CA.plot(ax = ax, color = \"white\", figsize = (10,10), linewidth=0.1, edgecolor = \"black\")\n",
    "owplot = owmap.plot(ax = ax, column = plotvar, cmap = \"Greens\", legend = True)\n",
    "swis.set_geometry('geometry').plot(ax = ax, markersize = markervar, marker = 'o', \n",
    "                                  legend = True, color = 'black', alpha=.7, linewidth=0)\n",
    "# plt.colorbar(label=\"waste\")\n",
    "ax.axis('off')\n",
    "ax.set_title('Food and Green MSW by County (tons)', fontdict={'fontsize': '12', 'fontweight' : '3'})\n",
    "\n",
    "l1 = plt.scatter([],[], s=c[0]/1000, edgecolors='none', color = \"black\")\n",
    "l2 = plt.scatter([],[], s=c[1]/1000, edgecolors='none', color = \"black\")\n",
    "l3 = plt.scatter([],[], s=c[2]/1000, edgecolors='none', color = \"black\")\n",
    "l4 = plt.scatter([],[], s=c[3]/1000, edgecolors='none', color = \"black\")\n",
    "\n",
    "labels = [str(c[0]), str(c[1]), str(c[2]), str(c[3])]\n",
    "labels = [str(c[0]), str(c[1]), \"35000\", \"75000\"]\n",
    "\n",
    "leg = plt.legend([l1, l2, l3, l4], labels, ncol = 1, frameon=False, fontsize=10,\n",
    "handlelength=2, loc = 1, borderpad = 1,\n",
    "handletextpad=1, title='Facility Size', scatterpoints = 1)\n",
    "\n",
    "plt.savefig(\"maps/OWbyCounty.png\", dpi=300)"
   ]
  },
  {
   "cell_type": "code",
   "execution_count": 166,
   "metadata": {
    "collapsed": true
   },
   "outputs": [],
   "source": [
    "# disposal = dict(zip(ow['County'], ow['disposal.yields']))\n",
    "# capacity = dict(zip(swis['County'], swis['cap_m3']))\n",
    "# disposal = pd.DataFrame(ow['County'], ow['BDTons'])"
   ]
  },
  {
   "cell_type": "code",
   "execution_count": 230,
   "metadata": {},
   "outputs": [
    {
     "data": {
      "text/plain": [
       "26      7236.002830\n",
       "27    -21603.425987\n",
       "28    268108.255477\n",
       "29     61501.884593\n",
       "30   -142949.015540\n",
       "Name: excess, dtype: float64"
      ]
     },
     "execution_count": 230,
     "metadata": {},
     "output_type": "execute_result"
    }
   ],
   "source": [
    "merged = pd.merge(owmap, swis_grouped, on = \"County\" )\n",
    "\n",
    "\n",
    "# feck = pd.merge(pd.DataFrame(all_waste, index=False), swis_grouped, on=\"County\")\n",
    "\n",
    "merged['excess'] = (merged['WetTons']) - merged['cap_tons']\n",
    "\n",
    "# merged.sort_values(['excess']).head()\n",
    "merged['excess'].tail()"
   ]
  },
  {
   "cell_type": "code",
   "execution_count": 228,
   "metadata": {},
   "outputs": [
    {
     "data": {
      "text/plain": [
       "<matplotlib.text.Text at 0x11d7f3b00>"
      ]
     },
     "execution_count": 228,
     "metadata": {},
     "output_type": "execute_result"
    },
    {
     "data": {
      "image/png": "[encoded data removed]",
      "text/plain": [
       "<matplotlib.figure.Figure at 0x124a8d198>"
      ]
     },
     "metadata": {},
     "output_type": "display_data"
    }
   ],
   "source": [
    "### PLOT DIFFERENCE BETWEEN GENERATION AND CAPACITY ####\n",
    "\n",
    "## redo as bubbles with color for poverty??\n",
    "\n",
    "plotvar = merged['excess']# * (1/100) \n",
    "# plotvar = np.sqrt(merged['excess'])\n",
    "# plotvar = np.log(merged['excess'])\n",
    "\n",
    "f, ax = plt.subplots(1)\n",
    "CA.plot(ax = ax, color = \"white\", figsize = (10,10), linewidth=0.1, edgecolor = \"black\")\n",
    "merged.plot(ax = ax, column = plotvar, cmap = \"viridis\", legend = True)\n",
    "# swis.set_geometry('geometry').plot(ax = ax, markersize = swis.cap_m3/10000, marker = 'o', \n",
    "#                                   legend = True, color = 'black', alpha=.7, linewidth=0)\n",
    "ax.axis('off')\n",
    "ax.set_title('Excess Waste (Untreatable) by County', fontdict={'fontsize': '12', 'fontweight' : '3'})\n"
   ]
  },
  {
   "cell_type": "code",
   "execution_count": 209,
   "metadata": {},
   "outputs": [
    {
     "ename": "TypeError",
     "evalue": "'tuple' object is not callable",
     "output_type": "error",
     "traceback": [
      "\u001b[0;31m---------------------------------------------------------------------------\u001b[0m",
      "\u001b[0;31mTypeError\u001b[0m                                 Traceback (most recent call last)",
      "\u001b[0;32m<ipython-input-209-402732c75b90>\u001b[0m in \u001b[0;36m<module>\u001b[0;34m()\u001b[0m\n\u001b[1;32m      3\u001b[0m \u001b[0mgl\u001b[0m\u001b[0;34m.\u001b[0m\u001b[0mcrs\u001b[0m\u001b[0;34m\u001b[0m\u001b[0m\n\u001b[1;32m      4\u001b[0m \u001b[0;34m\u001b[0m\u001b[0m\n\u001b[0;32m----> 5\u001b[0;31m \u001b[0mgl\u001b[0m\u001b[0;34m.\u001b[0m\u001b[0mshape\u001b[0m\u001b[0;34m(\u001b[0m\u001b[0;34m)\u001b[0m\u001b[0;34m\u001b[0m\u001b[0m\n\u001b[0m",
      "\u001b[0;31mTypeError\u001b[0m: 'tuple' object is not callable"
     ]
    }
   ],
   "source": [
    "gl_wp = gpd.read_file(\"data/raw/CA_FMMP_G/gl_bycounty/grazingland_county.shp\")\n",
    "gl = epsg_meters(gl_wp)\n",
    "gl.crs\n",
    "\n",
    "gl.shape()"
   ]
  },
  {
   "cell_type": "code",
   "execution_count": 207,
   "metadata": {},
   "outputs": [
    {
     "data": {
      "image/png": "[encoded data removed]",
      "text/plain": [
       "<matplotlib.figure.Figure at 0x12474d2e8>"
      ]
     },
     "metadata": {},
     "output_type": "display_data"
    }
   ],
   "source": [
    "# owmap.head()\n",
    "\n",
    "f, ax = plt.subplots()\n",
    "CA.plot(ax = ax, color = \"white\", figsize = (10,10), linewidth=0.1, edgecolor = \"black\")\n",
    "owmap.plot(ax = ax, column = np.sqrt(owmap.WetTons), cmap = \"Blues\", legend = False)\n",
    "gl.plot(ax= ax, color = \"green\", alpha = .5)\n",
    "ax.axis('off')\n",
    "ax.set_title('Grazing Land', fontdict={'fontsize': '12', 'fontweight' : '3'})\n",
    "\n",
    "plt.savefig(\"maps/grazingland.png\", dpi=300)"
   ]
  }
 ],
 "metadata": {
  "kernelspec": {
   "display_name": "Python 3",
   "language": "python",
   "name": "python3"
  },
  "language_info": {
   "codemirror_mode": {
    "name": "ipython",
    "version": 3
   },
   "file_extension": ".py",
   "mimetype": "text/x-python",
   "name": "python",
   "nbconvert_exporter": "python",
   "pygments_lexer": "ipython3",
   "version": "3.6.1"
  }
 },
 "nbformat": 4,
 "nbformat_minor": 2
}
