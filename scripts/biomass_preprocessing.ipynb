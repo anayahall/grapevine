{
 "cells": [
  {
   "cell_type": "code",
   "execution_count": 1,
   "metadata": {},
   "outputs": [
    {
     "name": "stdout",
     "output_type": "stream",
     "text": [
      "*BIOMASS PREPROCESSING SCRIPT BEGINS*\n"
     ]
    }
   ],
   "source": [
    "# Script to clean pre-process BIOMASS INVENTORY and make spatial\n",
    "\n",
    "# First, load packages\n",
    "import pandas as pd\n",
    "import os\n",
    "import numpy as np\n",
    "import shapely as sp\n",
    "import fiona\n",
    "\n",
    "import matplotlib.pyplot as plt\n",
    "import geopandas as gpd\n",
    "from geopandas import GeoSeries, GeoDataFrame\n",
    "\n",
    "import plotly.plotly as py\n",
    "\n",
    "# only for jupyter nb to show plots inline\n",
    "#%matplotlib inline \n",
    "\n",
    "print(\"*BIOMASS PREPROCESSING SCRIPT BEGINS*\")"
   ]
  },
  {
   "cell_type": "code",
   "execution_count": 2,
   "metadata": {
    "collapsed": true
   },
   "outputs": [],
   "source": [
    "#check wd\n",
    "#print(os.getcwd())\n",
    "\n",
    "#change wd\n",
    "os.chdir(\"/Users/anayahall/projects/grapevine\")\n",
    "\n",
    "#read in biomass inventory\n",
    "# GROSS inventory\n",
    "gbm = pd.read_csv(\"data/raw/biomass.inventory.csv\")\n",
    "\n",
    "# TECHNICAL inventory\n",
    "tbm = pd.read_csv(\"data/raw/biomass.inventory.technical.csv\")"
   ]
  },
  {
   "cell_type": "code",
   "execution_count": 3,
   "metadata": {},
   "outputs": [
    {
     "data": {
      "text/plain": [
       "59"
      ]
     },
     "execution_count": 3,
     "metadata": {},
     "output_type": "execute_result"
    }
   ],
   "source": [
    "gbm.head()\n",
    "tbm.head()\n",
    "\n",
    "gbm.columns\n",
    "\n",
    "# check that all counties in there\n",
    "len(gbm.COUNTY.unique())\n",
    "#yup, plus one \"other\""
   ]
  },
  {
   "cell_type": "code",
   "execution_count": 4,
   "metadata": {},
   "outputs": [
    {
     "data": {
      "text/plain": [
       "row residue                               5900\n",
       "row culls                                 4425\n",
       "orchard vineyard residue                  3717\n",
       "orchard vineyard culls                    3186\n",
       "field residue                             2655\n",
       "organic fraction municipal solid waste    2378\n",
       "low moisture solids                       1947\n",
       "high moisture solids                      1416\n",
       "forestry                                   696\n",
       "manure                                     177\n",
       "Name: biomass.category, dtype: int64"
      ]
     },
     "execution_count": 4,
     "metadata": {},
     "output_type": "execute_result"
    }
   ],
   "source": [
    "gbm['biomass.category'].value_counts()\n",
    "# same as technical"
   ]
  },
  {
   "cell_type": "code",
   "execution_count": 5,
   "metadata": {},
   "outputs": [
    {
     "data": {
      "text/plain": [
       "VEG OTHER         413\n",
       "MELON             413\n",
       "ASPARAGUS         413\n",
       "CORN SWEET        413\n",
       "SPICES & HERBS    413\n",
       "Name: biomass.feedstock, dtype: int64"
      ]
     },
     "execution_count": 5,
     "metadata": {},
     "output_type": "execute_result"
    }
   ],
   "source": [
    "gbm['biomass.feedstock'].value_counts().head()\n",
    "# same as technical\n",
    "# tbm['biomass.feedstock'].value_counts().head()"
   ]
  },
  {
   "cell_type": "code",
   "execution_count": 6,
   "metadata": {},
   "outputs": [
    {
     "data": {
      "text/html": [
       "<div>\n",
       "<style>\n",
       "    .dataframe thead tr:only-child th {\n",
       "        text-align: right;\n",
       "    }\n",
       "\n",
       "    .dataframe thead th {\n",
       "        text-align: left;\n",
       "    }\n",
       "\n",
       "    .dataframe tbody tr th {\n",
       "        vertical-align: top;\n",
       "    }\n",
       "</style>\n",
       "<table border=\"1\" class=\"dataframe\">\n",
       "  <thead>\n",
       "    <tr style=\"text-align: right;\">\n",
       "      <th></th>\n",
       "      <th>COUNTY</th>\n",
       "      <th>biomass.feedstock</th>\n",
       "      <th>disposal.yields</th>\n",
       "      <th>year</th>\n",
       "      <th>biomass.category</th>\n",
       "    </tr>\n",
       "  </thead>\n",
       "  <tbody>\n",
       "    <tr>\n",
       "      <th>26027</th>\n",
       "      <td>Tulare</td>\n",
       "      <td>MANURE</td>\n",
       "      <td>2528938.639</td>\n",
       "      <td>2050</td>\n",
       "      <td>manure</td>\n",
       "    </tr>\n",
       "  </tbody>\n",
       "</table>\n",
       "</div>"
      ],
      "text/plain": [
       "       COUNTY biomass.feedstock  disposal.yields  year biomass.category\n",
       "26027  Tulare            MANURE      2528938.639  2050           manure"
      ]
     },
     "execution_count": 6,
     "metadata": {},
     "output_type": "execute_result"
    }
   ],
   "source": [
    "gbm[gbm['disposal.yields'] == gbm['disposal.yields'].max()]"
   ]
  },
  {
   "cell_type": "code",
   "execution_count": 7,
   "metadata": {},
   "outputs": [
    {
     "data": {
      "text/html": [
       "<div>\n",
       "<style>\n",
       "    .dataframe thead tr:only-child th {\n",
       "        text-align: right;\n",
       "    }\n",
       "\n",
       "    .dataframe thead th {\n",
       "        text-align: left;\n",
       "    }\n",
       "\n",
       "    .dataframe tbody tr th {\n",
       "        vertical-align: top;\n",
       "    }\n",
       "</style>\n",
       "<table border=\"1\" class=\"dataframe\">\n",
       "  <thead>\n",
       "    <tr style=\"text-align: right;\">\n",
       "      <th></th>\n",
       "      <th>COUNTY</th>\n",
       "      <th>biomass.feedstock</th>\n",
       "      <th>disposal.yields</th>\n",
       "      <th>year</th>\n",
       "      <th>biomass.category</th>\n",
       "    </tr>\n",
       "  </thead>\n",
       "  <tbody>\n",
       "    <tr>\n",
       "      <th>25856</th>\n",
       "      <td>Alameda</td>\n",
       "      <td>MANURE</td>\n",
       "      <td>30611.846700</td>\n",
       "      <td>2014</td>\n",
       "      <td>manure</td>\n",
       "    </tr>\n",
       "    <tr>\n",
       "      <th>25857</th>\n",
       "      <td>Alpine</td>\n",
       "      <td>MANURE</td>\n",
       "      <td>596.021083</td>\n",
       "      <td>2014</td>\n",
       "      <td>manure</td>\n",
       "    </tr>\n",
       "    <tr>\n",
       "      <th>25858</th>\n",
       "      <td>Amador</td>\n",
       "      <td>MANURE</td>\n",
       "      <td>28287.661520</td>\n",
       "      <td>2014</td>\n",
       "      <td>manure</td>\n",
       "    </tr>\n",
       "    <tr>\n",
       "      <th>25859</th>\n",
       "      <td>Butte</td>\n",
       "      <td>MANURE</td>\n",
       "      <td>31633.009850</td>\n",
       "      <td>2014</td>\n",
       "      <td>manure</td>\n",
       "    </tr>\n",
       "    <tr>\n",
       "      <th>25860</th>\n",
       "      <td>Calaveras</td>\n",
       "      <td>MANURE</td>\n",
       "      <td>30616.484900</td>\n",
       "      <td>2014</td>\n",
       "      <td>manure</td>\n",
       "    </tr>\n",
       "  </tbody>\n",
       "</table>\n",
       "</div>"
      ],
      "text/plain": [
       "          COUNTY biomass.feedstock  disposal.yields  year biomass.category\n",
       "25856    Alameda            MANURE     30611.846700  2014           manure\n",
       "25857     Alpine            MANURE       596.021083  2014           manure\n",
       "25858     Amador            MANURE     28287.661520  2014           manure\n",
       "25859      Butte            MANURE     31633.009850  2014           manure\n",
       "25860  Calaveras            MANURE     30616.484900  2014           manure"
      ]
     },
     "execution_count": 7,
     "metadata": {},
     "output_type": "execute_result"
    }
   ],
   "source": [
    "#look at just manure (if feedstock, needs to be capitalized), if category, lower case -- should be equivalent!\n",
    "gbm[(gbm['biomass.feedstock'] == \"MANURE\") & (gbm['year'] == 2014)].head()"
   ]
  },
  {
   "cell_type": "code",
   "execution_count": 8,
   "metadata": {},
   "outputs": [
    {
     "data": {
      "text/plain": [
       "biomass.category\n",
       "field residue                             5.670601e+06\n",
       "forestry                                  8.363639e+07\n",
       "high moisture solids                      2.878861e+06\n",
       "low moisture solids                       1.527702e+07\n",
       "manure                                    3.440785e+07\n",
       "orchard vineyard culls                    5.222257e+05\n",
       "orchard vineyard residue                  1.096371e+07\n",
       "organic fraction municipal solid waste    6.297142e+07\n",
       "row culls                                 1.573085e+06\n",
       "row residue                               1.314184e+06\n",
       "Name: disposal.yields, dtype: float64"
      ]
     },
     "execution_count": 8,
     "metadata": {},
     "output_type": "execute_result"
    }
   ],
   "source": [
    "#start grouping by: biomass category\n",
    "\n",
    "gbm.groupby(['biomass.category'])['disposal.yields'].sum()"
   ]
  },
  {
   "cell_type": "code",
   "execution_count": 9,
   "metadata": {},
   "outputs": [
    {
     "data": {
      "text/plain": [
       "COUNTY\n",
       "Alameda      78386.468600\n",
       "Alpine        1483.436603\n",
       "Amador       71370.762600\n",
       "Butte        83742.977030\n",
       "Calaveras    81029.550070\n",
       "Name: disposal.yields, dtype: float64"
      ]
     },
     "execution_count": 9,
     "metadata": {},
     "output_type": "execute_result"
    }
   ],
   "source": [
    "gbm[gbm['biomass.category'] == \"manure\"].groupby(['COUNTY'])['disposal.yields'].sum().head()"
   ]
  },
  {
   "cell_type": "code",
   "execution_count": 10,
   "metadata": {},
   "outputs": [
    {
     "name": "stdout",
     "output_type": "stream",
     "text": [
      "read in county shapefile\n"
     ]
    }
   ],
   "source": [
    "# now load shapefile for CA counties to merge this\n",
    "\n",
    "#UScounties = fiona.open(\"data/raw/tl_2018_06_tract/tl_2018_06_tract.shp\")\n",
    "print(\"read in county shapefile\")\n",
    "CA = gpd.read_file(\"data/raw/tl_2018_06_tract/tl_2018_06_tract.shp\")"
   ]
  },
  {
   "cell_type": "code",
   "execution_count": 36,
   "metadata": {},
   "outputs": [
    {
     "data": {
      "text/html": [
       "<div>\n",
       "<style>\n",
       "    .dataframe thead tr:only-child th {\n",
       "        text-align: right;\n",
       "    }\n",
       "\n",
       "    .dataframe thead th {\n",
       "        text-align: left;\n",
       "    }\n",
       "\n",
       "    .dataframe tbody tr th {\n",
       "        vertical-align: top;\n",
       "    }\n",
       "</style>\n",
       "<table border=\"1\" class=\"dataframe\">\n",
       "  <thead>\n",
       "    <tr style=\"text-align: right;\">\n",
       "      <th></th>\n",
       "      <th>STATEFP</th>\n",
       "      <th>COUNTYFP</th>\n",
       "      <th>TRACTCE</th>\n",
       "      <th>GEOID</th>\n",
       "      <th>NAME</th>\n",
       "      <th>NAMELSAD</th>\n",
       "      <th>MTFCC</th>\n",
       "      <th>FUNCSTAT</th>\n",
       "      <th>ALAND</th>\n",
       "      <th>AWATER</th>\n",
       "      <th>INTPTLAT</th>\n",
       "      <th>INTPTLON</th>\n",
       "      <th>geometry</th>\n",
       "      <th>FIPS</th>\n",
       "    </tr>\n",
       "  </thead>\n",
       "  <tbody>\n",
       "    <tr>\n",
       "      <th>8052</th>\n",
       "      <td>06</td>\n",
       "      <td>059</td>\n",
       "      <td>001303</td>\n",
       "      <td>06059001303</td>\n",
       "      <td>13.03</td>\n",
       "      <td>Census Tract 13.03</td>\n",
       "      <td>G5020</td>\n",
       "      <td>S</td>\n",
       "      <td>1179651</td>\n",
       "      <td>0</td>\n",
       "      <td>+33.9209014</td>\n",
       "      <td>-117.9511671</td>\n",
       "      <td>POLYGON ((-117.959174 33.92458, -117.958881 33...</td>\n",
       "      <td>6059</td>\n",
       "    </tr>\n",
       "    <tr>\n",
       "      <th>8053</th>\n",
       "      <td>06</td>\n",
       "      <td>059</td>\n",
       "      <td>001304</td>\n",
       "      <td>06059001304</td>\n",
       "      <td>13.04</td>\n",
       "      <td>Census Tract 13.04</td>\n",
       "      <td>G5020</td>\n",
       "      <td>S</td>\n",
       "      <td>1252716</td>\n",
       "      <td>0</td>\n",
       "      <td>+33.9244375</td>\n",
       "      <td>-117.9455411</td>\n",
       "      <td>POLYGON ((-117.959178 33.928202, -117.958306 3...</td>\n",
       "      <td>6059</td>\n",
       "    </tr>\n",
       "    <tr>\n",
       "      <th>8054</th>\n",
       "      <td>06</td>\n",
       "      <td>059</td>\n",
       "      <td>001401</td>\n",
       "      <td>06059001401</td>\n",
       "      <td>14.01</td>\n",
       "      <td>Census Tract 14.01</td>\n",
       "      <td>G5020</td>\n",
       "      <td>S</td>\n",
       "      <td>1592982</td>\n",
       "      <td>15869</td>\n",
       "      <td>+33.9408240</td>\n",
       "      <td>-117.9410039</td>\n",
       "      <td>POLYGON ((-117.950559 33.945034, -117.950555 3...</td>\n",
       "      <td>6059</td>\n",
       "    </tr>\n",
       "    <tr>\n",
       "      <th>8055</th>\n",
       "      <td>06</td>\n",
       "      <td>013</td>\n",
       "      <td>367200</td>\n",
       "      <td>06013367200</td>\n",
       "      <td>3672</td>\n",
       "      <td>Census Tract 3672</td>\n",
       "      <td>G5020</td>\n",
       "      <td>S</td>\n",
       "      <td>1322081</td>\n",
       "      <td>0</td>\n",
       "      <td>+37.9660279</td>\n",
       "      <td>-122.3355504</td>\n",
       "      <td>POLYGON ((-122.345508 37.963547, -122.3455 37....</td>\n",
       "      <td>6013</td>\n",
       "    </tr>\n",
       "    <tr>\n",
       "      <th>8056</th>\n",
       "      <td>06</td>\n",
       "      <td>047</td>\n",
       "      <td>002402</td>\n",
       "      <td>06047002402</td>\n",
       "      <td>24.02</td>\n",
       "      <td>Census Tract 24.02</td>\n",
       "      <td>G5020</td>\n",
       "      <td>S</td>\n",
       "      <td>28084168</td>\n",
       "      <td>0</td>\n",
       "      <td>+36.9746245</td>\n",
       "      <td>-120.6220705</td>\n",
       "      <td>POLYGON ((-120.658384 36.965939, -120.658328 3...</td>\n",
       "      <td>6047</td>\n",
       "    </tr>\n",
       "  </tbody>\n",
       "</table>\n",
       "</div>"
      ],
      "text/plain": [
       "     STATEFP COUNTYFP TRACTCE        GEOID   NAME            NAMELSAD  MTFCC  \\\n",
       "8052      06      059  001303  06059001303  13.03  Census Tract 13.03  G5020   \n",
       "8053      06      059  001304  06059001304  13.04  Census Tract 13.04  G5020   \n",
       "8054      06      059  001401  06059001401  14.01  Census Tract 14.01  G5020   \n",
       "8055      06      013  367200  06013367200   3672   Census Tract 3672  G5020   \n",
       "8056      06      047  002402  06047002402  24.02  Census Tract 24.02  G5020   \n",
       "\n",
       "     FUNCSTAT     ALAND  AWATER     INTPTLAT      INTPTLON  \\\n",
       "8052        S   1179651       0  +33.9209014  -117.9511671   \n",
       "8053        S   1252716       0  +33.9244375  -117.9455411   \n",
       "8054        S   1592982   15869  +33.9408240  -117.9410039   \n",
       "8055        S   1322081       0  +37.9660279  -122.3355504   \n",
       "8056        S  28084168       0  +36.9746245  -120.6220705   \n",
       "\n",
       "                                               geometry  FIPS  \n",
       "8052  POLYGON ((-117.959174 33.92458, -117.958881 33...  6059  \n",
       "8053  POLYGON ((-117.959178 33.928202, -117.958306 3...  6059  \n",
       "8054  POLYGON ((-117.950559 33.945034, -117.950555 3...  6059  \n",
       "8055  POLYGON ((-122.345508 37.963547, -122.3455 37....  6013  \n",
       "8056  POLYGON ((-120.658384 36.965939, -120.658328 3...  6047  "
      ]
     },
     "execution_count": 36,
     "metadata": {},
     "output_type": "execute_result"
    }
   ],
   "source": [
    "CA.tail()"
   ]
  },
  {
   "cell_type": "code",
   "execution_count": 12,
   "metadata": {},
   "outputs": [],
   "source": [
    "# CREATE FIPS ID to merge with county names\n",
    "#CAshape.FIPS = str(CAshape.STATEFP) + str(CAshape.COUNTYFP)\n",
    "CA['FIPS']=CA['STATEFP'].astype(str)+CA['COUNTYFP']\n",
    "\n",
    "# get rid of leading zero\n",
    "CA.FIPS = [s.lstrip(\"0\") for s in CA.FIPS]\n",
    "\n",
    "#convert to integer for merging below\n",
    "CA.FIPS = [int(i) for i in CA.FIPS]\n"
   ]
  },
  {
   "cell_type": "code",
   "execution_count": 13,
   "metadata": {},
   "outputs": [
    {
     "data": {
      "text/html": [
       "<div>\n",
       "<style>\n",
       "    .dataframe thead tr:only-child th {\n",
       "        text-align: right;\n",
       "    }\n",
       "\n",
       "    .dataframe thead th {\n",
       "        text-align: left;\n",
       "    }\n",
       "\n",
       "    .dataframe tbody tr th {\n",
       "        vertical-align: top;\n",
       "    }\n",
       "</style>\n",
       "<table border=\"1\" class=\"dataframe\">\n",
       "  <thead>\n",
       "    <tr style=\"text-align: right;\">\n",
       "      <th></th>\n",
       "      <th>STATEFP</th>\n",
       "      <th>COUNTYFP</th>\n",
       "      <th>TRACTCE</th>\n",
       "      <th>GEOID</th>\n",
       "      <th>NAME</th>\n",
       "      <th>NAMELSAD</th>\n",
       "      <th>MTFCC</th>\n",
       "      <th>FUNCSTAT</th>\n",
       "      <th>ALAND</th>\n",
       "      <th>AWATER</th>\n",
       "      <th>INTPTLAT</th>\n",
       "      <th>INTPTLON</th>\n",
       "      <th>geometry</th>\n",
       "      <th>FIPS</th>\n",
       "      <th>COUNTY</th>\n",
       "      <th>State</th>\n",
       "    </tr>\n",
       "  </thead>\n",
       "  <tbody>\n",
       "    <tr>\n",
       "      <th>0</th>\n",
       "      <td>06</td>\n",
       "      <td>037</td>\n",
       "      <td>137504</td>\n",
       "      <td>06037137504</td>\n",
       "      <td>1375.04</td>\n",
       "      <td>Census Tract 1375.04</td>\n",
       "      <td>G5020</td>\n",
       "      <td>S</td>\n",
       "      <td>3837562</td>\n",
       "      <td>0</td>\n",
       "      <td>+34.1480383</td>\n",
       "      <td>-118.5720594</td>\n",
       "      <td>POLYGON ((-118.581186 34.143176, -118.580994 3...</td>\n",
       "      <td>6037</td>\n",
       "      <td>Los Angeles</td>\n",
       "      <td>CA</td>\n",
       "    </tr>\n",
       "    <tr>\n",
       "      <th>1</th>\n",
       "      <td>06</td>\n",
       "      <td>037</td>\n",
       "      <td>138000</td>\n",
       "      <td>06037138000</td>\n",
       "      <td>1380</td>\n",
       "      <td>Census Tract 1380</td>\n",
       "      <td>G5020</td>\n",
       "      <td>S</td>\n",
       "      <td>4472196</td>\n",
       "      <td>0</td>\n",
       "      <td>+34.1488008</td>\n",
       "      <td>-118.5910495</td>\n",
       "      <td>POLYGON ((-118.60573 34.145854, -118.605611 34...</td>\n",
       "      <td>6037</td>\n",
       "      <td>Los Angeles</td>\n",
       "      <td>CA</td>\n",
       "    </tr>\n",
       "    <tr>\n",
       "      <th>2</th>\n",
       "      <td>06</td>\n",
       "      <td>037</td>\n",
       "      <td>139200</td>\n",
       "      <td>06037139200</td>\n",
       "      <td>1392</td>\n",
       "      <td>Census Tract 1392</td>\n",
       "      <td>G5020</td>\n",
       "      <td>S</td>\n",
       "      <td>1152031</td>\n",
       "      <td>0</td>\n",
       "      <td>+34.1756961</td>\n",
       "      <td>-118.5246447</td>\n",
       "      <td>POLYGON ((-118.530824 34.180236, -118.529515 3...</td>\n",
       "      <td>6037</td>\n",
       "      <td>Los Angeles</td>\n",
       "      <td>CA</td>\n",
       "    </tr>\n",
       "    <tr>\n",
       "      <th>3</th>\n",
       "      <td>06</td>\n",
       "      <td>037</td>\n",
       "      <td>143200</td>\n",
       "      <td>06037143200</td>\n",
       "      <td>1432</td>\n",
       "      <td>Census Tract 1432</td>\n",
       "      <td>G5020</td>\n",
       "      <td>S</td>\n",
       "      <td>957093</td>\n",
       "      <td>0</td>\n",
       "      <td>+34.1494399</td>\n",
       "      <td>-118.3720618</td>\n",
       "      <td>POLYGON ((-118.37899 34.154093, -118.378882 34...</td>\n",
       "      <td>6037</td>\n",
       "      <td>Los Angeles</td>\n",
       "      <td>CA</td>\n",
       "    </tr>\n",
       "    <tr>\n",
       "      <th>4</th>\n",
       "      <td>06</td>\n",
       "      <td>037</td>\n",
       "      <td>143300</td>\n",
       "      <td>06037143300</td>\n",
       "      <td>1433</td>\n",
       "      <td>Census Tract 1433</td>\n",
       "      <td>G5020</td>\n",
       "      <td>S</td>\n",
       "      <td>1649223</td>\n",
       "      <td>5619</td>\n",
       "      <td>+34.1521830</td>\n",
       "      <td>-118.3866139</td>\n",
       "      <td>POLYGON ((-118.396484 34.157614, -118.395377 3...</td>\n",
       "      <td>6037</td>\n",
       "      <td>Los Angeles</td>\n",
       "      <td>CA</td>\n",
       "    </tr>\n",
       "  </tbody>\n",
       "</table>\n",
       "</div>"
      ],
      "text/plain": [
       "  STATEFP COUNTYFP TRACTCE        GEOID     NAME              NAMELSAD  MTFCC  \\\n",
       "0      06      037  137504  06037137504  1375.04  Census Tract 1375.04  G5020   \n",
       "1      06      037  138000  06037138000     1380     Census Tract 1380  G5020   \n",
       "2      06      037  139200  06037139200     1392     Census Tract 1392  G5020   \n",
       "3      06      037  143200  06037143200     1432     Census Tract 1432  G5020   \n",
       "4      06      037  143300  06037143300     1433     Census Tract 1433  G5020   \n",
       "\n",
       "  FUNCSTAT    ALAND  AWATER     INTPTLAT      INTPTLON  \\\n",
       "0        S  3837562       0  +34.1480383  -118.5720594   \n",
       "1        S  4472196       0  +34.1488008  -118.5910495   \n",
       "2        S  1152031       0  +34.1756961  -118.5246447   \n",
       "3        S   957093       0  +34.1494399  -118.3720618   \n",
       "4        S  1649223    5619  +34.1521830  -118.3866139   \n",
       "\n",
       "                                            geometry  FIPS       COUNTY State  \n",
       "0  POLYGON ((-118.581186 34.143176, -118.580994 3...  6037  Los Angeles    CA  \n",
       "1  POLYGON ((-118.60573 34.145854, -118.605611 34...  6037  Los Angeles    CA  \n",
       "2  POLYGON ((-118.530824 34.180236, -118.529515 3...  6037  Los Angeles    CA  \n",
       "3  POLYGON ((-118.37899 34.154093, -118.378882 34...  6037  Los Angeles    CA  \n",
       "4  POLYGON ((-118.396484 34.157614, -118.395377 3...  6037  Los Angeles    CA  "
      ]
     },
     "execution_count": 13,
     "metadata": {},
     "output_type": "execute_result"
    }
   ],
   "source": [
    "# NEED TO BRING IN COUNTY NAMES TO MERGE WITH BIOMASS DATA\n",
    "countyIDs = pd.read_csv(\"data/interim/CA_FIPS.csv\", names = [\"FIPS\", \"COUNTY\", \"State\"])\n",
    "countyIDs\n",
    "\n",
    "type(countyIDs.FIPS[0])\n",
    "type(CA.FIPS[0])\n",
    "\n",
    "CAshape = pd.merge(CA, countyIDs, on = 'FIPS')\n",
    "\n",
    "CAshape.head()\n"
   ]
  },
  {
   "cell_type": "code",
   "execution_count": 14,
   "metadata": {},
   "outputs": [
    {
     "data": {
      "text/plain": [
       "geopandas.geodataframe.GeoDataFrame"
      ]
     },
     "execution_count": 14,
     "metadata": {},
     "output_type": "execute_result"
    }
   ],
   "source": [
    "type(CAshape)"
   ]
  },
  {
   "cell_type": "code",
   "execution_count": 28,
   "metadata": {},
   "outputs": [
    {
     "name": "stdout",
     "output_type": "stream",
     "text": [
      "merging biomass data with CA shapefile\n"
     ]
    }
   ],
   "source": [
    "# now can merge with biomass data finally!!!\n",
    "gbm.columns\n",
    "print(\"merging biomass data with CA shapefile\")\n",
    "\n",
    "gbm_shp = pd.merge(CAshape, gbm, on = 'COUNTY')\n",
    "\n",
    "# Do same for technical biomass\n",
    "tbm_shp = pd.merge(CAshape, tbm, on = 'COUNTY')\n"
   ]
  },
  {
   "cell_type": "code",
   "execution_count": 34,
   "metadata": {},
   "outputs": [
    {
     "data": {
      "text/plain": [
       "COUNTY\n",
       "Alameda      2.829752e+07\n",
       "Alpine       1.483437e+03\n",
       "Amador       6.423369e+05\n",
       "Butte        4.270892e+06\n",
       "Calaveras    8.102955e+05\n",
       "Name: disposal.yields, dtype: float64"
      ]
     },
     "execution_count": 34,
     "metadata": {},
     "output_type": "execute_result"
    }
   ],
   "source": [
    "type(tbm_shp)\n",
    "tbm_shp.tail()\n",
    "\n",
    "\n",
    "gbm_shp[gbm_shp['biomass.category'] == \"manure\"].groupby(['COUNTY'])['disposal.yields'].sum().head()"
   ]
  },
  {
   "cell_type": "code",
   "execution_count": 25,
   "metadata": {},
   "outputs": [
    {
     "data": {
      "image/png": "[encoded data removed]",
      "text/plain": [
       "<matplotlib.figure.Figure at 0x11a1d2278>"
      ]
     },
     "metadata": {},
     "output_type": "display_data"
    }
   ],
   "source": [
    "# # play around with plotting ??? COME BACK TO\n",
    "# gbm['disposal.yields']\n",
    "\n",
    "# # set a variable that will call whatever column we want to visualise on the map\n",
    "# variable = \"disposal.yields\"\n",
    "# # set the range for the choropleth\n",
    "# vmin, vmax = 100, 2500000\n",
    "# # create figure and axes for Matplotlib\n",
    "# fig, ax = plt.subplots(1, figsize=(10, 6))"
   ]
  },
  {
   "cell_type": "code",
   "execution_count": 35,
   "metadata": {},
   "outputs": [
    {
     "name": "stdout",
     "output_type": "stream",
     "text": [
      "DONE RUNNING -- come back to play with grouping and/or plotting\n"
     ]
    }
   ],
   "source": [
    "print(\"DONE RUNNING -- come back to play with grouping and/or plotting\")"
   ]
  }
 ],
 "metadata": {
  "kernelspec": {
   "display_name": "Python 3",
   "language": "python",
   "name": "python3"
  },
  "language_info": {
   "codemirror_mode": {
    "name": "ipython",
    "version": 3
   },
   "file_extension": ".py",
   "mimetype": "text/x-python",
   "name": "python",
   "nbconvert_exporter": "python",
   "pygments_lexer": "ipython3",
   "version": "3.6.1"
  }
 },
 "nbformat": 4,
 "nbformat_minor": 2
}
