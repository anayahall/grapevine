{
 "cells": [
  {
   "cell_type": "code",
   "execution_count": 3,
   "metadata": {
    "collapsed": true
   },
   "outputs": [],
   "source": [
    "# Script to clean pre-process BIOMASS INVENTORY and make spatial\n",
    "\n",
    "# First, load packages\n",
    "import pandas as pd\n",
    "import os\n",
    "import numpy as np\n",
    "import shapely as sp\n",
    "\n",
    "import matplotlib.pyplot as plt\n",
    "import geopandas as gpd\n",
    "from geopandas import GeoSeries, GeoDataFrame\n",
    "# only for jupyter nb to show plots inline\n",
    "#%matplotlib inline \n",
    "\n",
    "print(\"BIOMASS PREPROCESSING\")"
   ]
  },
  {
   "cell_type": "code",
   "execution_count": 10,
   "metadata": {},
   "outputs": [],
   "source": [
    "#check wd\n",
    "#print(os.getcwd())\n",
    "\n",
    "#change wd\n",
    "os.chdir(\"/Users/anayahall/projects/grapevine\")\n",
    "\n",
    "#read in biomass inventory\n",
    "# GROSS inventory\n",
    "gbm = pd.read_csv(\"data/raw/biomass.inventory.csv\")\n",
    "\n",
    "# TECHNICAL inventory\n",
    "tbm = pd.read_csv(\"data/raw/biomass.inventory.technical.csv\")"
   ]
  },
  {
   "cell_type": "code",
   "execution_count": 50,
   "metadata": {},
   "outputs": [
    {
     "data": {
      "text/plain": [
       "59"
      ]
     },
     "execution_count": 50,
     "metadata": {},
     "output_type": "execute_result"
    }
   ],
   "source": [
    "gbm.head()\n",
    "tbm.head()\n",
    "\n",
    "gbm.columns\n",
    "\n",
    "# check that all counties in there\n",
    "len(gbm.COUNTY.unique())\n",
    "#yup, plus one \"other\""
   ]
  },
  {
   "cell_type": "code",
   "execution_count": 13,
   "metadata": {},
   "outputs": [
    {
     "data": {
      "text/plain": [
       "row residue                               5900\n",
       "row culls                                 4425\n",
       "orchard vineyard residue                  3717\n",
       "orchard vineyard culls                    3186\n",
       "field residue                             2655\n",
       "organic fraction municipal solid waste    2378\n",
       "low moisture solids                       1947\n",
       "high moisture solids                      1416\n",
       "forestry                                   696\n",
       "manure                                     177\n",
       "Name: biomass.category, dtype: int64"
      ]
     },
     "execution_count": 13,
     "metadata": {},
     "output_type": "execute_result"
    }
   ],
   "source": [
    "gbm['biomass.category'].value_counts()\n",
    "# same as technical"
   ]
  },
  {
   "cell_type": "code",
   "execution_count": 26,
   "metadata": {},
   "outputs": [
    {
     "data": {
      "text/plain": [
       "ONION               413\n",
       "POTATO              413\n",
       "SQUASH              413\n",
       "VEG OTHER           413\n",
       "SPINACH & GREENS    413\n",
       "Name: biomass.feedstock, dtype: int64"
      ]
     },
     "execution_count": 26,
     "metadata": {},
     "output_type": "execute_result"
    }
   ],
   "source": [
    "gbm['biomass.feedstock'].value_counts().head()\n",
    "# same as technical\n",
    "# tbm['biomass.feedstock'].value_counts().head()"
   ]
  },
  {
   "cell_type": "code",
   "execution_count": 27,
   "metadata": {},
   "outputs": [
    {
     "data": {
      "text/html": [
       "<div>\n",
       "<style>\n",
       "    .dataframe thead tr:only-child th {\n",
       "        text-align: right;\n",
       "    }\n",
       "\n",
       "    .dataframe thead th {\n",
       "        text-align: left;\n",
       "    }\n",
       "\n",
       "    .dataframe tbody tr th {\n",
       "        vertical-align: top;\n",
       "    }\n",
       "</style>\n",
       "<table border=\"1\" class=\"dataframe\">\n",
       "  <thead>\n",
       "    <tr style=\"text-align: right;\">\n",
       "      <th></th>\n",
       "      <th>COUNTY</th>\n",
       "      <th>biomass.feedstock</th>\n",
       "      <th>disposal.yields</th>\n",
       "      <th>year</th>\n",
       "      <th>biomass.category</th>\n",
       "    </tr>\n",
       "  </thead>\n",
       "  <tbody>\n",
       "    <tr>\n",
       "      <th>26027</th>\n",
       "      <td>Tulare</td>\n",
       "      <td>MANURE</td>\n",
       "      <td>2528938.639</td>\n",
       "      <td>2050</td>\n",
       "      <td>manure</td>\n",
       "    </tr>\n",
       "  </tbody>\n",
       "</table>\n",
       "</div>"
      ],
      "text/plain": [
       "       COUNTY biomass.feedstock  disposal.yields  year biomass.category\n",
       "26027  Tulare            MANURE      2528938.639  2050           manure"
      ]
     },
     "execution_count": 27,
     "metadata": {},
     "output_type": "execute_result"
    }
   ],
   "source": [
    "gbm[gbm['disposal.yields'] == gbm['disposal.yields'].max()]"
   ]
  },
  {
   "cell_type": "code",
   "execution_count": 63,
   "metadata": {},
   "outputs": [
    {
     "data": {
      "text/html": [
       "<div>\n",
       "<style>\n",
       "    .dataframe thead tr:only-child th {\n",
       "        text-align: right;\n",
       "    }\n",
       "\n",
       "    .dataframe thead th {\n",
       "        text-align: left;\n",
       "    }\n",
       "\n",
       "    .dataframe tbody tr th {\n",
       "        vertical-align: top;\n",
       "    }\n",
       "</style>\n",
       "<table border=\"1\" class=\"dataframe\">\n",
       "  <thead>\n",
       "    <tr style=\"text-align: right;\">\n",
       "      <th></th>\n",
       "      <th>COUNTY</th>\n",
       "      <th>biomass.feedstock</th>\n",
       "      <th>disposal.yields</th>\n",
       "      <th>year</th>\n",
       "      <th>biomass.category</th>\n",
       "    </tr>\n",
       "  </thead>\n",
       "  <tbody>\n",
       "    <tr>\n",
       "      <th>25856</th>\n",
       "      <td>Alameda</td>\n",
       "      <td>MANURE</td>\n",
       "      <td>30611.846700</td>\n",
       "      <td>2014</td>\n",
       "      <td>manure</td>\n",
       "    </tr>\n",
       "    <tr>\n",
       "      <th>25857</th>\n",
       "      <td>Alpine</td>\n",
       "      <td>MANURE</td>\n",
       "      <td>596.021083</td>\n",
       "      <td>2014</td>\n",
       "      <td>manure</td>\n",
       "    </tr>\n",
       "    <tr>\n",
       "      <th>25858</th>\n",
       "      <td>Amador</td>\n",
       "      <td>MANURE</td>\n",
       "      <td>28287.661520</td>\n",
       "      <td>2014</td>\n",
       "      <td>manure</td>\n",
       "    </tr>\n",
       "    <tr>\n",
       "      <th>25859</th>\n",
       "      <td>Butte</td>\n",
       "      <td>MANURE</td>\n",
       "      <td>31633.009850</td>\n",
       "      <td>2014</td>\n",
       "      <td>manure</td>\n",
       "    </tr>\n",
       "    <tr>\n",
       "      <th>25860</th>\n",
       "      <td>Calaveras</td>\n",
       "      <td>MANURE</td>\n",
       "      <td>30616.484900</td>\n",
       "      <td>2014</td>\n",
       "      <td>manure</td>\n",
       "    </tr>\n",
       "  </tbody>\n",
       "</table>\n",
       "</div>"
      ],
      "text/plain": [
       "          COUNTY biomass.feedstock  disposal.yields  year biomass.category\n",
       "25856    Alameda            MANURE     30611.846700  2014           manure\n",
       "25857     Alpine            MANURE       596.021083  2014           manure\n",
       "25858     Amador            MANURE     28287.661520  2014           manure\n",
       "25859      Butte            MANURE     31633.009850  2014           manure\n",
       "25860  Calaveras            MANURE     30616.484900  2014           manure"
      ]
     },
     "execution_count": 63,
     "metadata": {},
     "output_type": "execute_result"
    }
   ],
   "source": [
    "#look at just manure (if feedstock, needs to be capitalized), if category, lower case -- should be equivalent!\n",
    "gbm[(gbm['biomass.feedstock'] == \"MANURE\") & (gbm['year'] == 2014)].head()\n"
   ]
  },
  {
   "cell_type": "code",
   "execution_count": 56,
   "metadata": {},
   "outputs": [
    {
     "data": {
      "text/plain": [
       "biomass.category\n",
       "field residue                             5.670601e+06\n",
       "forestry                                  8.363639e+07\n",
       "high moisture solids                      2.878861e+06\n",
       "low moisture solids                       1.527702e+07\n",
       "manure                                    3.440785e+07\n",
       "orchard vineyard culls                    5.222257e+05\n",
       "orchard vineyard residue                  1.096371e+07\n",
       "organic fraction municipal solid waste    6.297142e+07\n",
       "row culls                                 1.573085e+06\n",
       "row residue                               1.314184e+06\n",
       "Name: disposal.yields, dtype: float64"
      ]
     },
     "execution_count": 56,
     "metadata": {},
     "output_type": "execute_result"
    }
   ],
   "source": [
    "#start grouping by: biomass category\n",
    "\n",
    "gbm.groupby(['biomass.category'])['disposal.yields'].sum()"
   ]
  },
  {
   "cell_type": "code",
   "execution_count": 64,
   "metadata": {},
   "outputs": [
    {
     "data": {
      "text/plain": [
       "COUNTY\n",
       "Alameda      78386.468600\n",
       "Alpine        1483.436603\n",
       "Amador       71370.762600\n",
       "Butte        83742.977030\n",
       "Calaveras    81029.550070\n",
       "Name: disposal.yields, dtype: float64"
      ]
     },
     "execution_count": 64,
     "metadata": {},
     "output_type": "execute_result"
    }
   ],
   "source": [
    "gbm[gbm['biomass.category'] == \"manure\"].groupby(['COUNTY'])['disposal.yields'].sum().head()"
   ]
  },
  {
   "cell_type": "code",
   "execution_count": null,
   "metadata": {
    "collapsed": true
   },
   "outputs": [],
   "source": [
    "print(\"DONE RUNNING\")"
   ]
  }
 ],
 "metadata": {
  "kernelspec": {
   "display_name": "Python 3",
   "language": "python",
   "name": "python3"
  },
  "language_info": {
   "codemirror_mode": {
    "name": "ipython",
    "version": 3
   },
   "file_extension": ".py",
   "mimetype": "text/x-python",
   "name": "python",
   "nbconvert_exporter": "python",
   "pygments_lexer": "ipython3",
   "version": "3.6.1"
  }
 },
 "nbformat": 4,
 "nbformat_minor": 2
}
