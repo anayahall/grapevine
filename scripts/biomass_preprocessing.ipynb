{
 "cells": [
  {
   "cell_type": "code",
   "execution_count": 2,
   "metadata": {},
   "outputs": [
    {
     "name": "stdout",
     "output_type": "stream",
     "text": [
      "*BIOMASS PREPROCESSING SCRIPT BEGINS*\n"
     ]
    }
   ],
   "source": [
    "# Script to clean pre-process BIOMASS INVENTORY and make spatial\n",
    "\n",
    "# First, load packages\n",
    "import pandas as pd\n",
    "import os\n",
    "import numpy as np\n",
    "import shapely as sp\n",
    "import fiona\n",
    "import time\n",
    "\n",
    "import matplotlib.pyplot as plt\n",
    "import geopandas as gpd\n",
    "from geopandas import GeoSeries, GeoDataFrame\n",
    "\n",
    "import plotly.plotly as py\n",
    "\n",
    "# only for jupyter nb to show plots inline\n",
    "#%matplotlib inline \n",
    "\n",
    "print(\"*BIOMASS PREPROCESSING SCRIPT BEGINS*\")"
   ]
  },
  {
   "cell_type": "code",
   "execution_count": 4,
   "metadata": {
    "collapsed": true
   },
   "outputs": [],
   "source": [
    "#check wd\n",
    "#print(os.getcwd())\n",
    "\n",
    "#change wd\n",
    "os.chdir(\"/Users/anayahall/projects/grapevine\")\n",
    "\n",
    "#read in biomass inventory\n",
    "# GROSS inventory\n",
    "gbm = pd.read_csv(\"data/raw/biomass.inventory.csv\")\n",
    "\n",
    "# TECHNICAL inventory\n",
    "tbm = pd.read_csv(\"data/raw/biomass.inventory.technical.csv\")"
   ]
  },
  {
   "cell_type": "code",
   "execution_count": 77,
   "metadata": {},
   "outputs": [
    {
     "data": {
      "text/plain": [
       "59"
      ]
     },
     "execution_count": 77,
     "metadata": {},
     "output_type": "execute_result"
    }
   ],
   "source": [
    "gbm.head()\n",
    "tbm.head()\n",
    "\n",
    "gbm.columns\n",
    "\n",
    "# check that all counties in there\n",
    "len(gbm.COUNTY.unique())\n",
    "#yup, plus one \"other\""
   ]
  },
  {
   "cell_type": "code",
   "execution_count": 78,
   "metadata": {},
   "outputs": [
    {
     "data": {
      "text/plain": [
       "row residue                               5900\n",
       "row culls                                 4425\n",
       "orchard vineyard residue                  3717\n",
       "orchard vineyard culls                    3186\n",
       "field residue                             2655\n",
       "organic fraction municipal solid waste    2378\n",
       "low moisture solids                       1947\n",
       "high moisture solids                      1416\n",
       "forestry                                   696\n",
       "manure                                     177\n",
       "Name: biomass.category, dtype: int64"
      ]
     },
     "execution_count": 78,
     "metadata": {},
     "output_type": "execute_result"
    }
   ],
   "source": [
    "# EXPLORE DATA\n",
    "gbm['biomass.category'].value_counts()\n",
    "# same as technical"
   ]
  },
  {
   "cell_type": "code",
   "execution_count": 79,
   "metadata": {},
   "outputs": [
    {
     "data": {
      "text/plain": [
       "POTATO               413\n",
       "OTHER CRUCIFEROUS    413\n",
       "VEG OTHER            413\n",
       "TOMATO & EGGPLANT    413\n",
       "VEG UNSP.            413\n",
       "Name: biomass.feedstock, dtype: int64"
      ]
     },
     "execution_count": 79,
     "metadata": {},
     "output_type": "execute_result"
    }
   ],
   "source": [
    "gbm['biomass.feedstock'].value_counts().head()\n",
    "# same as technical\n",
    "# tbm['biomass.feedstock'].value_counts().head()"
   ]
  },
  {
   "cell_type": "code",
   "execution_count": 80,
   "metadata": {},
   "outputs": [
    {
     "data": {
      "text/html": [
       "<div>\n",
       "<style>\n",
       "    .dataframe thead tr:only-child th {\n",
       "        text-align: right;\n",
       "    }\n",
       "\n",
       "    .dataframe thead th {\n",
       "        text-align: left;\n",
       "    }\n",
       "\n",
       "    .dataframe tbody tr th {\n",
       "        vertical-align: top;\n",
       "    }\n",
       "</style>\n",
       "<table border=\"1\" class=\"dataframe\">\n",
       "  <thead>\n",
       "    <tr style=\"text-align: right;\">\n",
       "      <th></th>\n",
       "      <th>COUNTY</th>\n",
       "      <th>biomass.feedstock</th>\n",
       "      <th>disposal.yields</th>\n",
       "      <th>year</th>\n",
       "      <th>biomass.category</th>\n",
       "    </tr>\n",
       "  </thead>\n",
       "  <tbody>\n",
       "    <tr>\n",
       "      <th>26027</th>\n",
       "      <td>Tulare</td>\n",
       "      <td>MANURE</td>\n",
       "      <td>2528938.639</td>\n",
       "      <td>2050</td>\n",
       "      <td>manure</td>\n",
       "    </tr>\n",
       "  </tbody>\n",
       "</table>\n",
       "</div>"
      ],
      "text/plain": [
       "       COUNTY biomass.feedstock  disposal.yields  year biomass.category\n",
       "26027  Tulare            MANURE      2528938.639  2050           manure"
      ]
     },
     "execution_count": 80,
     "metadata": {},
     "output_type": "execute_result"
    }
   ],
   "source": [
    "gbm[gbm['disposal.yields'] == gbm['disposal.yields'].max()]"
   ]
  },
  {
   "cell_type": "code",
   "execution_count": 81,
   "metadata": {},
   "outputs": [
    {
     "data": {
      "text/html": [
       "<div>\n",
       "<style>\n",
       "    .dataframe thead tr:only-child th {\n",
       "        text-align: right;\n",
       "    }\n",
       "\n",
       "    .dataframe thead th {\n",
       "        text-align: left;\n",
       "    }\n",
       "\n",
       "    .dataframe tbody tr th {\n",
       "        vertical-align: top;\n",
       "    }\n",
       "</style>\n",
       "<table border=\"1\" class=\"dataframe\">\n",
       "  <thead>\n",
       "    <tr style=\"text-align: right;\">\n",
       "      <th></th>\n",
       "      <th>COUNTY</th>\n",
       "      <th>biomass.feedstock</th>\n",
       "      <th>disposal.yields</th>\n",
       "      <th>year</th>\n",
       "      <th>biomass.category</th>\n",
       "    </tr>\n",
       "  </thead>\n",
       "  <tbody>\n",
       "    <tr>\n",
       "      <th>25856</th>\n",
       "      <td>Alameda</td>\n",
       "      <td>MANURE</td>\n",
       "      <td>30611.846700</td>\n",
       "      <td>2014</td>\n",
       "      <td>manure</td>\n",
       "    </tr>\n",
       "    <tr>\n",
       "      <th>25857</th>\n",
       "      <td>Alpine</td>\n",
       "      <td>MANURE</td>\n",
       "      <td>596.021083</td>\n",
       "      <td>2014</td>\n",
       "      <td>manure</td>\n",
       "    </tr>\n",
       "    <tr>\n",
       "      <th>25858</th>\n",
       "      <td>Amador</td>\n",
       "      <td>MANURE</td>\n",
       "      <td>28287.661520</td>\n",
       "      <td>2014</td>\n",
       "      <td>manure</td>\n",
       "    </tr>\n",
       "    <tr>\n",
       "      <th>25859</th>\n",
       "      <td>Butte</td>\n",
       "      <td>MANURE</td>\n",
       "      <td>31633.009850</td>\n",
       "      <td>2014</td>\n",
       "      <td>manure</td>\n",
       "    </tr>\n",
       "    <tr>\n",
       "      <th>25860</th>\n",
       "      <td>Calaveras</td>\n",
       "      <td>MANURE</td>\n",
       "      <td>30616.484900</td>\n",
       "      <td>2014</td>\n",
       "      <td>manure</td>\n",
       "    </tr>\n",
       "  </tbody>\n",
       "</table>\n",
       "</div>"
      ],
      "text/plain": [
       "          COUNTY biomass.feedstock  disposal.yields  year biomass.category\n",
       "25856    Alameda            MANURE     30611.846700  2014           manure\n",
       "25857     Alpine            MANURE       596.021083  2014           manure\n",
       "25858     Amador            MANURE     28287.661520  2014           manure\n",
       "25859      Butte            MANURE     31633.009850  2014           manure\n",
       "25860  Calaveras            MANURE     30616.484900  2014           manure"
      ]
     },
     "execution_count": 81,
     "metadata": {},
     "output_type": "execute_result"
    }
   ],
   "source": [
    "#look at just manure (if feedstock, needs to be capitalized), if category, lower case -- should be equivalent!\n",
    "gbm[(gbm['biomass.feedstock'] == \"MANURE\") & (gbm['year'] == 2014)].head()"
   ]
  },
  {
   "cell_type": "code",
   "execution_count": 82,
   "metadata": {},
   "outputs": [
    {
     "data": {
      "text/plain": [
       "biomass.category\n",
       "field residue                             5.670601e+06\n",
       "forestry                                  8.363639e+07\n",
       "high moisture solids                      2.878861e+06\n",
       "low moisture solids                       1.527702e+07\n",
       "manure                                    3.440785e+07\n",
       "orchard vineyard culls                    5.222257e+05\n",
       "orchard vineyard residue                  1.096371e+07\n",
       "organic fraction municipal solid waste    6.297142e+07\n",
       "row culls                                 1.573085e+06\n",
       "row residue                               1.314184e+06\n",
       "Name: disposal.yields, dtype: float64"
      ]
     },
     "execution_count": 82,
     "metadata": {},
     "output_type": "execute_result"
    }
   ],
   "source": [
    "#start grouping by: biomass category\n",
    "gbm.groupby(['biomass.category'])['disposal.yields'].sum()"
   ]
  },
  {
   "cell_type": "code",
   "execution_count": 83,
   "metadata": {},
   "outputs": [
    {
     "data": {
      "text/plain": [
       "COUNTY\n",
       "Alameda      78386.468600\n",
       "Alpine        1483.436603\n",
       "Amador       71370.762600\n",
       "Butte        83742.977030\n",
       "Calaveras    81029.550070\n",
       "Name: disposal.yields, dtype: float64"
      ]
     },
     "execution_count": 83,
     "metadata": {},
     "output_type": "execute_result"
    }
   ],
   "source": [
    "gbm[gbm['biomass.category'] == \"manure\"].groupby(['COUNTY'])['disposal.yields'].sum().head()"
   ]
  },
  {
   "cell_type": "code",
   "execution_count": 5,
   "metadata": {},
   "outputs": [
    {
     "name": "stdout",
     "output_type": "stream",
     "text": [
      "read in CA COUNTIES shapefile\n"
     ]
    },
    {
     "data": {
      "text/plain": [
       "<matplotlib.axes._subplots.AxesSubplot at 0x1246f9e10>"
      ]
     },
     "execution_count": 5,
     "metadata": {},
     "output_type": "execute_result"
    }
   ],
   "source": [
    "# now load SHAPEFILE for all CA COUNTIES to merge this\n",
    "print(\"read in CA COUNTIES shapefile\")\n",
    "CA = gpd.read_file(\"data/raw/CA_Counties/CA_Counties_TIGER2016.shp\")\n",
    "CA.plot()"
   ]
  },
  {
   "cell_type": "code",
   "execution_count": 85,
   "metadata": {},
   "outputs": [
    {
     "data": {
      "text/plain": [
       "geopandas.geodataframe.GeoDataFrame"
      ]
     },
     "execution_count": 85,
     "metadata": {},
     "output_type": "execute_result"
    }
   ],
   "source": [
    "# type(CA)"
   ]
  },
  {
   "cell_type": "code",
   "execution_count": 6,
   "metadata": {},
   "outputs": [
    {
     "data": {
      "text/html": [
       "<div>\n",
       "<style>\n",
       "    .dataframe thead tr:only-child th {\n",
       "        text-align: right;\n",
       "    }\n",
       "\n",
       "    .dataframe thead th {\n",
       "        text-align: left;\n",
       "    }\n",
       "\n",
       "    .dataframe tbody tr th {\n",
       "        vertical-align: top;\n",
       "    }\n",
       "</style>\n",
       "<table border=\"1\" class=\"dataframe\">\n",
       "  <thead>\n",
       "    <tr style=\"text-align: right;\">\n",
       "      <th></th>\n",
       "      <th>STATEFP</th>\n",
       "      <th>COUNTYFP</th>\n",
       "      <th>COUNTYNS</th>\n",
       "      <th>GEOID</th>\n",
       "      <th>NAME</th>\n",
       "      <th>NAMELSAD</th>\n",
       "      <th>LSAD</th>\n",
       "      <th>CLASSFP</th>\n",
       "      <th>MTFCC</th>\n",
       "      <th>CSAFP</th>\n",
       "      <th>CBSAFP</th>\n",
       "      <th>METDIVFP</th>\n",
       "      <th>FUNCSTAT</th>\n",
       "      <th>ALAND</th>\n",
       "      <th>AWATER</th>\n",
       "      <th>INTPTLAT</th>\n",
       "      <th>INTPTLON</th>\n",
       "      <th>geometry</th>\n",
       "      <th>cocent</th>\n",
       "    </tr>\n",
       "  </thead>\n",
       "  <tbody>\n",
       "    <tr>\n",
       "      <th>53</th>\n",
       "      <td>06</td>\n",
       "      <td>081</td>\n",
       "      <td>00277305</td>\n",
       "      <td>06081</td>\n",
       "      <td>San Mateo</td>\n",
       "      <td>San Mateo County</td>\n",
       "      <td>06</td>\n",
       "      <td>H1</td>\n",
       "      <td>G4020</td>\n",
       "      <td>488</td>\n",
       "      <td>41860</td>\n",
       "      <td>41884</td>\n",
       "      <td>A</td>\n",
       "      <td>1161658961</td>\n",
       "      <td>757412213</td>\n",
       "      <td>+37.4146633</td>\n",
       "      <td>-122.3715451</td>\n",
       "      <td>POLYGON ((-13646335.91187001 4521323.746708268...</td>\n",
       "      <td>POINT (-13620576.61254652 4500160.133383474)</td>\n",
       "    </tr>\n",
       "    <tr>\n",
       "      <th>54</th>\n",
       "      <td>06</td>\n",
       "      <td>093</td>\n",
       "      <td>00277311</td>\n",
       "      <td>06093</td>\n",
       "      <td>Siskiyou</td>\n",
       "      <td>Siskiyou County</td>\n",
       "      <td>06</td>\n",
       "      <td>H1</td>\n",
       "      <td>G4020</td>\n",
       "      <td>None</td>\n",
       "      <td>None</td>\n",
       "      <td>None</td>\n",
       "      <td>A</td>\n",
       "      <td>16261974847</td>\n",
       "      <td>179108278</td>\n",
       "      <td>+41.5879861</td>\n",
       "      <td>-122.5332868</td>\n",
       "      <td>POLYGON ((-13677924.00259712 5161573.733656177...</td>\n",
       "      <td>POINT (-13641131.482284 5100360.431008819)</td>\n",
       "    </tr>\n",
       "    <tr>\n",
       "      <th>55</th>\n",
       "      <td>06</td>\n",
       "      <td>087</td>\n",
       "      <td>00277308</td>\n",
       "      <td>06087</td>\n",
       "      <td>Santa Cruz</td>\n",
       "      <td>Santa Cruz County</td>\n",
       "      <td>06</td>\n",
       "      <td>H1</td>\n",
       "      <td>G4020</td>\n",
       "      <td>488</td>\n",
       "      <td>42100</td>\n",
       "      <td>None</td>\n",
       "      <td>A</td>\n",
       "      <td>1152967330</td>\n",
       "      <td>419570389</td>\n",
       "      <td>+37.0124883</td>\n",
       "      <td>-122.0072050</td>\n",
       "      <td>POLYGON ((-13605100.48999848 4469147.1572919, ...</td>\n",
       "      <td>POINT (-13582080.9552777 4442146.137370988)</td>\n",
       "    </tr>\n",
       "    <tr>\n",
       "      <th>56</th>\n",
       "      <td>06</td>\n",
       "      <td>021</td>\n",
       "      <td>00277275</td>\n",
       "      <td>06021</td>\n",
       "      <td>Glenn</td>\n",
       "      <td>Glenn County</td>\n",
       "      <td>06</td>\n",
       "      <td>H1</td>\n",
       "      <td>G4020</td>\n",
       "      <td>None</td>\n",
       "      <td>None</td>\n",
       "      <td>None</td>\n",
       "      <td>A</td>\n",
       "      <td>3403104376</td>\n",
       "      <td>33749275</td>\n",
       "      <td>+39.6025462</td>\n",
       "      <td>-122.4016998</td>\n",
       "      <td>POLYGON ((-13680158.03494936 4814470.617666174...</td>\n",
       "      <td>POINT (-13624650.76309824 4807799.345999167)</td>\n",
       "    </tr>\n",
       "    <tr>\n",
       "      <th>57</th>\n",
       "      <td>06</td>\n",
       "      <td>079</td>\n",
       "      <td>00277304</td>\n",
       "      <td>06079</td>\n",
       "      <td>San Luis Obispo</td>\n",
       "      <td>San Luis Obispo County</td>\n",
       "      <td>06</td>\n",
       "      <td>H1</td>\n",
       "      <td>G4020</td>\n",
       "      <td>None</td>\n",
       "      <td>42020</td>\n",
       "      <td>None</td>\n",
       "      <td>A</td>\n",
       "      <td>8548640337</td>\n",
       "      <td>815490673</td>\n",
       "      <td>+35.3852242</td>\n",
       "      <td>-120.4475445</td>\n",
       "      <td>POLYGON ((-13490260.15243948 4272335.748360178...</td>\n",
       "      <td>POINT (-13408759.60289406 4216796.820212255)</td>\n",
       "    </tr>\n",
       "  </tbody>\n",
       "</table>\n",
       "</div>"
      ],
      "text/plain": [
       "   STATEFP COUNTYFP  COUNTYNS  GEOID             NAME                NAMELSAD  \\\n",
       "53      06      081  00277305  06081        San Mateo        San Mateo County   \n",
       "54      06      093  00277311  06093         Siskiyou         Siskiyou County   \n",
       "55      06      087  00277308  06087       Santa Cruz       Santa Cruz County   \n",
       "56      06      021  00277275  06021            Glenn            Glenn County   \n",
       "57      06      079  00277304  06079  San Luis Obispo  San Luis Obispo County   \n",
       "\n",
       "   LSAD CLASSFP  MTFCC CSAFP CBSAFP METDIVFP FUNCSTAT        ALAND     AWATER  \\\n",
       "53   06      H1  G4020   488  41860    41884        A   1161658961  757412213   \n",
       "54   06      H1  G4020  None   None     None        A  16261974847  179108278   \n",
       "55   06      H1  G4020   488  42100     None        A   1152967330  419570389   \n",
       "56   06      H1  G4020  None   None     None        A   3403104376   33749275   \n",
       "57   06      H1  G4020  None  42020     None        A   8548640337  815490673   \n",
       "\n",
       "       INTPTLAT      INTPTLON  \\\n",
       "53  +37.4146633  -122.3715451   \n",
       "54  +41.5879861  -122.5332868   \n",
       "55  +37.0124883  -122.0072050   \n",
       "56  +39.6025462  -122.4016998   \n",
       "57  +35.3852242  -120.4475445   \n",
       "\n",
       "                                             geometry  \\\n",
       "53  POLYGON ((-13646335.91187001 4521323.746708268...   \n",
       "54  POLYGON ((-13677924.00259712 5161573.733656177...   \n",
       "55  POLYGON ((-13605100.48999848 4469147.1572919, ...   \n",
       "56  POLYGON ((-13680158.03494936 4814470.617666174...   \n",
       "57  POLYGON ((-13490260.15243948 4272335.748360178...   \n",
       "\n",
       "                                          cocent  \n",
       "53  POINT (-13620576.61254652 4500160.133383474)  \n",
       "54    POINT (-13641131.482284 5100360.431008819)  \n",
       "55   POINT (-13582080.9552777 4442146.137370988)  \n",
       "56  POINT (-13624650.76309824 4807799.345999167)  \n",
       "57  POINT (-13408759.60289406 4216796.820212255)  "
      ]
     },
     "execution_count": 6,
     "metadata": {},
     "output_type": "execute_result"
    }
   ],
   "source": [
    "# Create new geoseries of county centroids - \n",
    "# note, technically still a panda series until 'set_geomtry()' is called\n",
    "CA['cocent'] = CA['geometry'].centroid\n",
    "CA.tail()"
   ]
  },
  {
   "cell_type": "code",
   "execution_count": 87,
   "metadata": {},
   "outputs": [
    {
     "data": {
      "text/plain": [
       "<matplotlib.axes._subplots.AxesSubplot at 0x116acaa20>"
      ]
     },
     "execution_count": 87,
     "metadata": {},
     "output_type": "execute_result"
    },
    {
     "data": {
      "image/png": "[encoded data removed]",
      "text/plain": [
       "<matplotlib.figure.Figure at 0x1165dfda0>"
      ]
     },
     "metadata": {},
     "output_type": "display_data"
    }
   ],
   "source": [
    "# both set geometry (see above) and plot to check it looks right\n",
    "CA.set_geometry('cocent').plot()"
   ]
  },
  {
   "cell_type": "code",
   "execution_count": 88,
   "metadata": {
    "collapsed": true
   },
   "outputs": [],
   "source": [
    "# CREATE FIPS ID to merge with county names\n",
    "#CAshape.FIPS = str(CAshape.STATEFP) + str(CAshape.COUNTYFP)\n",
    "CA['FIPS']=CA['STATEFP'].astype(str)+CA['COUNTYFP']\n",
    "\n",
    "# get rid of leading zero\n",
    "CA.FIPS = [s.lstrip(\"0\") for s in CA.FIPS]\n",
    "\n",
    "#convert to integer for merging below\n",
    "CA.FIPS = [int(i) for i in CA.FIPS]\n"
   ]
  },
  {
   "cell_type": "code",
   "execution_count": 89,
   "metadata": {
    "collapsed": true
   },
   "outputs": [],
   "source": [
    "# NEED TO BRING IN COUNTY NAMES TO MERGE WITH BIOMASS DATA\n",
    "countyIDs = pd.read_csv(\"data/interim/CA_FIPS.csv\", names = [\"FIPS\", \"COUNTY\", \"State\"])\n",
    "countyIDs\n",
    "\n",
    "type(countyIDs.FIPS[0])\n",
    "type(CA.FIPS[0])\n",
    "\n",
    "CAshape = pd.merge(CA, countyIDs, on = 'FIPS')\n",
    "\n"
   ]
  },
  {
   "cell_type": "code",
   "execution_count": 90,
   "metadata": {},
   "outputs": [
    {
     "data": {
      "text/plain": [
       "geopandas.geodataframe.GeoDataFrame"
      ]
     },
     "execution_count": 90,
     "metadata": {},
     "output_type": "execute_result"
    }
   ],
   "source": [
    "# Create subset of just county centroid points \n",
    "CAshape.head()\n",
    "\n",
    "CA_pts = CAshape.set_geometry('cocent')[['cocent','FIPS', 'COUNTY', 'ALAND', 'AWATER']]\n",
    "\n",
    "type(CA_pts)\n",
    "\n",
    "# CA_pts.plot()\n",
    "# CA_pts.head()"
   ]
  },
  {
   "cell_type": "code",
   "execution_count": 91,
   "metadata": {
    "collapsed": true
   },
   "outputs": [],
   "source": [
    "# type(CAshape)"
   ]
  },
  {
   "cell_type": "code",
   "execution_count": 92,
   "metadata": {},
   "outputs": [
    {
     "name": "stdout",
     "output_type": "stream",
     "text": [
      "merging biomass data with CA shapefile\n"
     ]
    }
   ],
   "source": [
    "# now can merge with biomass data finally!!!\n",
    "gbm.columns\n",
    "print(\"merging biomass data with CA shapefile\")\n",
    "\n",
    "#POLYGONS\n",
    "gbm_shp = pd.merge(CAshape, gbm, on = 'COUNTY')\n",
    "# Do same for technical biomass\n",
    "tbm_shp = pd.merge(CAshape, tbm, on = 'COUNTY')\n",
    "\n",
    "# COUNTY CENTROIDS\n",
    "\n",
    "gbm_pts = pd.merge(CA_pts, gbm, on = 'COUNTY')\n",
    "tbm_pts = pd.merge(CA_pts, tbm, on = 'COUNTY')"
   ]
  },
  {
   "cell_type": "code",
   "execution_count": 93,
   "metadata": {},
   "outputs": [
    {
     "data": {
      "text/html": [
       "<div>\n",
       "<style>\n",
       "    .dataframe thead tr:only-child th {\n",
       "        text-align: right;\n",
       "    }\n",
       "\n",
       "    .dataframe thead th {\n",
       "        text-align: left;\n",
       "    }\n",
       "\n",
       "    .dataframe tbody tr th {\n",
       "        vertical-align: top;\n",
       "    }\n",
       "</style>\n",
       "<table border=\"1\" class=\"dataframe\">\n",
       "  <thead>\n",
       "    <tr style=\"text-align: right;\">\n",
       "      <th></th>\n",
       "      <th>cocent</th>\n",
       "      <th>FIPS</th>\n",
       "      <th>COUNTY</th>\n",
       "      <th>ALAND</th>\n",
       "      <th>AWATER</th>\n",
       "      <th>biomass.feedstock</th>\n",
       "      <th>disposal.yields</th>\n",
       "      <th>year</th>\n",
       "      <th>biomass.category</th>\n",
       "    </tr>\n",
       "  </thead>\n",
       "  <tbody>\n",
       "    <tr>\n",
       "      <th>0</th>\n",
       "      <td>POINT (-118.5720592538903 34.14803912013723)</td>\n",
       "      <td>6037</td>\n",
       "      <td>Los Angeles</td>\n",
       "      <td>3837562</td>\n",
       "      <td>0</td>\n",
       "      <td>APPLE</td>\n",
       "      <td>0.0</td>\n",
       "      <td>2014</td>\n",
       "      <td>orchard vineyard culls</td>\n",
       "    </tr>\n",
       "    <tr>\n",
       "      <th>1</th>\n",
       "      <td>POINT (-118.5720592538903 34.14803912013723)</td>\n",
       "      <td>6037</td>\n",
       "      <td>Los Angeles</td>\n",
       "      <td>3837562</td>\n",
       "      <td>0</td>\n",
       "      <td>APRICOT</td>\n",
       "      <td>0.0</td>\n",
       "      <td>2014</td>\n",
       "      <td>orchard vineyard culls</td>\n",
       "    </tr>\n",
       "    <tr>\n",
       "      <th>2</th>\n",
       "      <td>POINT (-118.5720592538903 34.14803912013723)</td>\n",
       "      <td>6037</td>\n",
       "      <td>Los Angeles</td>\n",
       "      <td>3837562</td>\n",
       "      <td>0</td>\n",
       "      <td>AVOCADO</td>\n",
       "      <td>0.0</td>\n",
       "      <td>2014</td>\n",
       "      <td>orchard vineyard culls</td>\n",
       "    </tr>\n",
       "    <tr>\n",
       "      <th>3</th>\n",
       "      <td>POINT (-118.5720592538903 34.14803912013723)</td>\n",
       "      <td>6037</td>\n",
       "      <td>Los Angeles</td>\n",
       "      <td>3837562</td>\n",
       "      <td>0</td>\n",
       "      <td>EXOTIC</td>\n",
       "      <td>0.0</td>\n",
       "      <td>2014</td>\n",
       "      <td>orchard vineyard culls</td>\n",
       "    </tr>\n",
       "    <tr>\n",
       "      <th>4</th>\n",
       "      <td>POINT (-118.5720592538903 34.14803912013723)</td>\n",
       "      <td>6037</td>\n",
       "      <td>Los Angeles</td>\n",
       "      <td>3837562</td>\n",
       "      <td>0</td>\n",
       "      <td>CHERRY</td>\n",
       "      <td>0.0</td>\n",
       "      <td>2014</td>\n",
       "      <td>orchard vineyard culls</td>\n",
       "    </tr>\n",
       "  </tbody>\n",
       "</table>\n",
       "</div>"
      ],
      "text/plain": [
       "                                         cocent  FIPS       COUNTY    ALAND  \\\n",
       "0  POINT (-118.5720592538903 34.14803912013723)  6037  Los Angeles  3837562   \n",
       "1  POINT (-118.5720592538903 34.14803912013723)  6037  Los Angeles  3837562   \n",
       "2  POINT (-118.5720592538903 34.14803912013723)  6037  Los Angeles  3837562   \n",
       "3  POINT (-118.5720592538903 34.14803912013723)  6037  Los Angeles  3837562   \n",
       "4  POINT (-118.5720592538903 34.14803912013723)  6037  Los Angeles  3837562   \n",
       "\n",
       "   AWATER biomass.feedstock  disposal.yields  year        biomass.category  \n",
       "0       0             APPLE              0.0  2014  orchard vineyard culls  \n",
       "1       0           APRICOT              0.0  2014  orchard vineyard culls  \n",
       "2       0           AVOCADO              0.0  2014  orchard vineyard culls  \n",
       "3       0            EXOTIC              0.0  2014  orchard vineyard culls  \n",
       "4       0            CHERRY              0.0  2014  orchard vineyard culls  "
      ]
     },
     "execution_count": 93,
     "metadata": {},
     "output_type": "execute_result"
    }
   ],
   "source": [
    "gbm_pts.head()"
   ]
  },
  {
   "cell_type": "code",
   "execution_count": 94,
   "metadata": {
    "collapsed": true
   },
   "outputs": [],
   "source": [
    "# type(tbm_shp)\n",
    "# tbm_shp.tail()\n",
    "\n",
    "# Create subset of shapefile to see it it saves any faster\n",
    "# tbm_subshp = tbm_shp[tbm_shp['biomass.category'] == 'manure']"
   ]
  },
  {
   "cell_type": "code",
   "execution_count": 95,
   "metadata": {
    "collapsed": true
   },
   "outputs": [],
   "source": [
    "# type(tbm_subshp)"
   ]
  },
  {
   "cell_type": "code",
   "execution_count": 97,
   "metadata": {},
   "outputs": [
    {
     "name": "stdout",
     "output_type": "stream",
     "text": [
      "starting export\n",
      "saving inventories as shapefile with county centroid pts\n"
     ]
    },
    {
     "name": "stderr",
     "output_type": "stream",
     "text": [
      "/Users/anayahall/anaconda/lib/python3.6/site-packages/geopandas/io/file.py:108: FionaDeprecationWarning:\n",
      "\n",
      "Use fiona.Env() instead.\n",
      "\n"
     ]
    },
    {
     "name": "stdout",
     "output_type": "stream",
     "text": [
      "28.12362289428711\n",
      "BIOMASS PRE_PROCESSING DONE RUNNING\n"
     ]
    }
   ],
   "source": [
    "# export as SHAPEFILE\n",
    "\n",
    "start = time.time()\n",
    "\n",
    "\n",
    "print(\"starting export\")\n",
    "\n",
    "gbm_out = r\"/Users/anayahall/projects/grapevine/data/clean/grossbiomass_pts.shp\"\n",
    "tbm_out = r\"/Users/anayahall/projects/grapevine/data/clean/techbiomass_pts.shp\"\n",
    "\n",
    "print(\"saving inventories as shapefile with county centroid pts\")\n",
    "gbm_pts.to_file(driver='ESRI Shapefile', filename=gbm_out)\n",
    "tbm_pts.to_file(driver='ESRI Shapefile', filename=tbm_out)\n",
    "\n",
    "end = time.time()\n",
    "print(end - start)\n",
    "\n",
    "\n",
    "\n",
    "print(\"BIOMASS PRE_PROCESSING DONE RUNNING\")"
   ]
  }
 ],
 "metadata": {
  "kernelspec": {
   "display_name": "Python 3",
   "language": "python",
   "name": "python3"
  },
  "language_info": {
   "codemirror_mode": {
    "name": "ipython",
    "version": 3
   },
   "file_extension": ".py",
   "mimetype": "text/x-python",
   "name": "python",
   "nbconvert_exporter": "python",
   "pygments_lexer": "ipython3",
   "version": "3.6.1"
  }
 },
 "nbformat": 4,
 "nbformat_minor": 2
}
