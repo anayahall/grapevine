{
 "cells": [
  {
   "cell_type": "code",
   "execution_count": null,
   "metadata": {
    "collapsed": true
   },
   "outputs": [],
   "source": [
    "# Script to clean pre-process BIOMASS INVENTORY and make spatial\n",
    "\n",
    "# First, load packages\n",
    "import pandas as pd\n",
    "import os\n",
    "import numpy as np\n",
    "import shapely as sp\n",
    "import fiona\n",
    "\n",
    "import matplotlib.pyplot as plt\n",
    "import geopandas as gpd\n",
    "from geopandas import GeoSeries, GeoDataFrame\n",
    "\n",
    "import plotly.plotly as py\n",
    "\n",
    "# only for jupyter nb to show plots inline\n",
    "#%matplotlib inline \n",
    "\n",
    "print(\"*BIOMASS PREPROCESSING SCRIPT BEGINS*\")"
   ]
  },
  {
   "cell_type": "code",
   "execution_count": null,
   "metadata": {
    "collapsed": true
   },
   "outputs": [],
   "source": [
    "#check wd\n",
    "#print(os.getcwd())\n",
    "\n",
    "#change wd\n",
    "os.chdir(\"/Users/anayahall/projects/grapevine\")\n",
    "\n",
    "#read in biomass inventory\n",
    "# GROSS inventory\n",
    "gbm = pd.read_csv(\"data/raw/biomass.inventory.csv\")\n",
    "\n",
    "# TECHNICAL inventory\n",
    "tbm = pd.read_csv(\"data/raw/biomass.inventory.technical.csv\")"
   ]
  },
  {
   "cell_type": "code",
   "execution_count": null,
   "metadata": {
    "collapsed": true
   },
   "outputs": [],
   "source": [
    "gbm.head()\n",
    "tbm.head()\n",
    "\n",
    "gbm.columns\n",
    "\n",
    "# check that all counties in there\n",
    "len(gbm.COUNTY.unique())\n",
    "#yup, plus one \"other\""
   ]
  },
  {
   "cell_type": "code",
   "execution_count": null,
   "metadata": {
    "collapsed": true
   },
   "outputs": [],
   "source": [
    "gbm['biomass.category'].value_counts()\n",
    "# same as technical"
   ]
  },
  {
   "cell_type": "code",
   "execution_count": null,
   "metadata": {
    "collapsed": true
   },
   "outputs": [],
   "source": [
    "gbm['biomass.feedstock'].value_counts().head()\n",
    "# same as technical\n",
    "# tbm['biomass.feedstock'].value_counts().head()"
   ]
  },
  {
   "cell_type": "code",
   "execution_count": null,
   "metadata": {
    "collapsed": true
   },
   "outputs": [],
   "source": [
    "gbm[gbm['disposal.yields'] == gbm['disposal.yields'].max()]"
   ]
  },
  {
   "cell_type": "code",
   "execution_count": null,
   "metadata": {
    "collapsed": true
   },
   "outputs": [],
   "source": [
    "#look at just manure (if feedstock, needs to be capitalized), if category, lower case -- should be equivalent!\n",
    "gbm[(gbm['biomass.feedstock'] == \"MANURE\") & (gbm['year'] == 2014)].head()"
   ]
  },
  {
   "cell_type": "code",
   "execution_count": null,
   "metadata": {
    "collapsed": true
   },
   "outputs": [],
   "source": [
    "#start grouping by: biomass category\n",
    "\n",
    "gbm.groupby(['biomass.category'])['disposal.yields'].sum()"
   ]
  },
  {
   "cell_type": "code",
   "execution_count": null,
   "metadata": {
    "collapsed": true
   },
   "outputs": [],
   "source": [
    "gbm[gbm['biomass.category'] == \"manure\"].groupby(['COUNTY'])['disposal.yields'].sum().head()"
   ]
  },
  {
   "cell_type": "code",
   "execution_count": null,
   "metadata": {
    "collapsed": true
   },
   "outputs": [],
   "source": [
    "# now load shapefile for CA counties to merge this\n",
    "\n",
    "#UScounties = fiona.open(\"data/raw/tl_2018_06_tract/tl_2018_06_tract.shp\")\n",
    "print(\"read in county shapefile\")\n",
    "CA = gpd.read_file(\"data/raw/tl_2018_06_tract/tl_2018_06_tract.shp\")"
   ]
  },
  {
   "cell_type": "code",
   "execution_count": null,
   "metadata": {
    "collapsed": true
   },
   "outputs": [],
   "source": [
    "CA.tail()"
   ]
  },
  {
   "cell_type": "code",
   "execution_count": null,
   "metadata": {
    "collapsed": true
   },
   "outputs": [],
   "source": [
    "# CREATE FIPS ID to merge with county names\n",
    "#CAshape.FIPS = str(CAshape.STATEFP) + str(CAshape.COUNTYFP)\n",
    "CA['FIPS']=CA['STATEFP'].astype(str)+CA['COUNTYFP']\n",
    "\n",
    "# get rid of leading zero\n",
    "CA.FIPS = [s.lstrip(\"0\") for s in CA.FIPS]\n",
    "\n",
    "#convert to integer for merging below\n",
    "CA.FIPS = [int(i) for i in CA.FIPS]\n"
   ]
  },
  {
   "cell_type": "code",
   "execution_count": null,
   "metadata": {
    "collapsed": true
   },
   "outputs": [],
   "source": [
    "# NEED TO BRING IN COUNTY NAMES TO MERGE WITH BIOMASS DATA\n",
    "countyIDs = pd.read_csv(\"data/interim/CA_FIPS.csv\", names = [\"FIPS\", \"COUNTY\", \"State\"])\n",
    "countyIDs\n",
    "\n",
    "type(countyIDs.FIPS[0])\n",
    "type(CA.FIPS[0])\n",
    "\n",
    "CAshape = pd.merge(CA, countyIDs, on = 'FIPS')\n",
    "\n",
    "CAshape.head()\n"
   ]
  },
  {
   "cell_type": "code",
   "execution_count": null,
   "metadata": {
    "collapsed": true
   },
   "outputs": [],
   "source": [
    "type(CAshape)"
   ]
  },
  {
   "cell_type": "code",
   "execution_count": null,
   "metadata": {
    "collapsed": true
   },
   "outputs": [],
   "source": [
    "# now can merge with biomass data finally!!!\n",
    "gbm.columns\n",
    "print(\"merging biomass data with CA shapefile\")\n",
    "\n",
    "gbm_shp = pd.merge(CAshape, gbm, on = 'COUNTY')\n",
    "\n",
    "# Do same for technical biomass\n",
    "tbm_shp = pd.merge(CAshape, tbm, on = 'COUNTY')\n"
   ]
  },
  {
   "cell_type": "code",
   "execution_count": 28,
   "metadata": {},
   "outputs": [],
   "source": [
    "type(tbm_shp)\n",
    "tbm_shp.tail()\n",
    "\n",
    "\n",
    "# tbm_shp[tbm_shp['biomass.category'] == \"manure\"].groupby(['COUNTY'])['disposal.yields'].sum().head()\n",
    "tbm_subshp = tbm_shp[tbm_shp['biomass.category'] == 'manure']"
   ]
  },
  {
   "cell_type": "code",
   "execution_count": 29,
   "metadata": {},
   "outputs": [
    {
     "data": {
      "text/plain": [
       "geopandas.geodataframe.GeoDataFrame"
      ]
     },
     "execution_count": 29,
     "metadata": {},
     "output_type": "execute_result"
    }
   ],
   "source": [
    "type(tbm_subshp)"
   ]
  },
  {
   "cell_type": "code",
   "execution_count": 31,
   "metadata": {},
   "outputs": [
    {
     "name": "stdout",
     "output_type": "stream",
     "text": [
      "starting export\n"
     ]
    },
    {
     "name": "stderr",
     "output_type": "stream",
     "text": [
      "/Users/anayahall/anaconda/lib/python3.6/site-packages/geopandas/io/file.py:108: FionaDeprecationWarning:\n",
      "\n",
      "Use fiona.Env() instead.\n",
      "\n"
     ]
    },
    {
     "name": "stdout",
     "output_type": "stream",
     "text": [
      "DONE RUNNING -- come back to play with grouping and/or plotting\n"
     ]
    }
   ],
   "source": [
    "# export as SHAPEFILE\n",
    "print(\"starting export\")\n",
    "\n",
    "gbm_out = r\"/Users/anayahall/projects/grapevine/data/clean/grossbiomass.shp\"\n",
    "tbm_out = r\"/Users/anayahall/projects/grapevine/data/clean/techbiomass.shp\"\n",
    "\n",
    "\n",
    "# gbm_shp.to_file(driver='ESRI Shapefile', filename=gbm_out)\n",
    "tbm_subshp.to_file(driver='ESRI Shapefile', filename=tbm_out)\n",
    "\n",
    "print(\"DONE RUNNING -- come back to play with grouping and/or plotting\")"
   ]
  },
  {
   "cell_type": "code",
   "execution_count": null,
   "metadata": {
    "collapsed": true
   },
   "outputs": [],
   "source": []
  }
 ],
 "metadata": {
  "kernelspec": {
   "display_name": "Python 3",
   "language": "python",
   "name": "python3"
  },
  "language_info": {
   "codemirror_mode": {
    "name": "ipython",
    "version": 3
   },
   "file_extension": ".py",
   "mimetype": "text/x-python",
   "name": "python",
   "nbconvert_exporter": "python",
   "pygments_lexer": "ipython3",
   "version": "3.6.1"
  }
 },
 "nbformat": 4,
 "nbformat_minor": 2
}
