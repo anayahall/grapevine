{
 "cells": [
  {
   "cell_type": "code",
   "execution_count": 4,
   "metadata": {},
   "outputs": [],
   "source": [
    "# Reading in Rasters\n",
    "# Rasterio tutorial here: \n",
    "#https://automating-gis-processes.github.io/CSC18/lessons/L6/reading-raster.html\n",
    "\n",
    "# First, load packages\n",
    "import pandas as pd\n",
    "import os\n",
    "import rasterio\n",
    "import numpy as np\n",
    "import shapely as sp\n",
    "\n",
    "# import matplotlib.pyplot as plt\n",
    "# import geopandas as gpd\n",
    "# from geopandas import GeoSeries, GeoDataFrame\n",
    "# # only for jupyter nb to show plots inline\n",
    "# %matplotlib inline \n"
   ]
  },
  {
   "cell_type": "code",
   "execution_count": 5,
   "metadata": {},
   "outputs": [
    {
     "data": {
      "text/plain": [
       "rasterio.io.DatasetReader"
      ]
     },
     "execution_count": 5,
     "metadata": {},
     "output_type": "execute_result"
    }
   ],
   "source": [
    "os.chdir(\"/Users/anayahall/projects/grapevine\")\n",
    "\n",
    "fp = \"data/interim/CAMLC2010/California Augmented Multisource Landcover 20101.tif\"\n",
    "raster = rasterio.open(fp)\n",
    "type(raster)"
   ]
  }
 ],
 "metadata": {
  "kernelspec": {
   "display_name": "Python 3",
   "language": "python",
   "name": "python3"
  },
  "language_info": {
   "codemirror_mode": {
    "name": "ipython",
    "version": 3
   },
   "file_extension": ".py",
   "mimetype": "text/x-python",
   "name": "python",
   "nbconvert_exporter": "python",
   "pygments_lexer": "ipython3",
   "version": "3.6.1"
  }
 },
 "nbformat": 4,
 "nbformat_minor": 2
}
