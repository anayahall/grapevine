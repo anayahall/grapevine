{
 "cells": [
  {
   "cell_type": "code",
   "execution_count": 18,
   "metadata": {
    "collapsed": true
   },
   "outputs": [],
   "source": [
    "# Reading in Rasters\n",
    "# Rasterio tutorial here: \n",
    "#https://automating-gis-processes.github.io/CSC18/lessons/L6/reading-raster.html\n",
    "\n",
    "# First, load packages\n",
    "import pandas as pd\n",
    "import os\n",
    "import rasterio\n",
    "from rasterio.plot import show\n",
    "import numpy as np\n",
    "import shapely as sp\n",
    "import geopandas as gpd\n",
    "\n",
    "# import matplotlib.pyplot as plt\n",
    "\n",
    "# from geopandas import GeoSeries, GeoDataFrame\n",
    "# # only for jupyter nb to show plots inline\n",
    "%matplotlib inline \n",
    "os.chdir(\"/Users/anayahall/projects/grapevine\")"
   ]
  },
  {
   "cell_type": "code",
   "execution_count": 26,
   "metadata": {},
   "outputs": [
    {
     "data": {
      "text/plain": [
       "{'init': 'epsg:3857'}"
      ]
     },
     "execution_count": 26,
     "metadata": {},
     "output_type": "execute_result"
    }
   ],
   "source": [
    "# now load SHAPEFILE for all CA COUNTIES to merge this\n",
    "# print(\"read in CA CENSUS TRACTS shapefile\")\n",
    "# CAct = gpd.read_file(\"data/raw/tl_2018_06_tract/tl_2018_06_tract.shp\")\n",
    "\n",
    "# # CAct.plot()\n",
    "\n",
    "# CA = CAct.drop_duplicates('COUNTYFP').copy()\n",
    "\n",
    "# CA.plot()\n",
    "\n",
    "CActy = gpd.read_file(\"data/raw/CA_Counties/CA_Counties_TIGER2016.shp\")\n",
    "# CActy.plot()\n",
    "\n",
    "CActy.crs"
   ]
  },
  {
   "cell_type": "code",
   "execution_count": 11,
   "metadata": {},
   "outputs": [
    {
     "name": "stdout",
     "output_type": "stream",
     "text": [
      "raster crs:  PROJCS[\"NAD_1983_California_Albers\",GEOGCS[\"NAD83\",DATUM[\"North_American_Datum_1983\",SPHEROID[\"GRS 1980\",6378137,298.2572221010042,AUTHORITY[\"EPSG\",\"7019\"]],AUTHORITY[\"EPSG\",\"6269\"]],PRIMEM[\"Greenwich\",0],UNIT[\"degree\",0.0174532925199433],AUTHORITY[\"EPSG\",\"4269\"]],PROJECTION[\"Albers_Conic_Equal_Area\"],PARAMETER[\"standard_parallel_1\",34],PARAMETER[\"standard_parallel_2\",40.5],PARAMETER[\"latitude_of_center\",0],PARAMETER[\"longitude_of_center\",-120],PARAMETER[\"false_easting\",0],PARAMETER[\"false_northing\",-4000000],UNIT[\"metre\",1,AUTHORITY[\"EPSG\",\"9001\"]]]\n",
      "*********\n",
      "raster bounds:  BoundingBox(left=-373901.4155110012, bottom=-604508.857799991, right=540098.5844889989, top=449991.14220000897)\n",
      "*********\n",
      "count:  1\n",
      "*********\n",
      "driver:  GTiff\n",
      "*********\n",
      "metadata:  {'driver': 'GTiff', 'dtype': 'int16', 'nodata': 0.0, 'width': 18280, 'height': 21090, 'count': 1, 'crs': CRS.from_wkt('PROJCS[\"NAD_1983_California_Albers\",GEOGCS[\"NAD83\",DATUM[\"North_American_Datum_1983\",SPHEROID[\"GRS 1980\",6378137,298.2572221010042,AUTHORITY[\"EPSG\",\"7019\"]],AUTHORITY[\"EPSG\",\"6269\"]],PRIMEM[\"Greenwich\",0],UNIT[\"degree\",0.0174532925199433],AUTHORITY[\"EPSG\",\"4269\"]],PROJECTION[\"Albers_Conic_Equal_Area\"],PARAMETER[\"standard_parallel_1\",34],PARAMETER[\"standard_parallel_2\",40.5],PARAMETER[\"latitude_of_center\",0],PARAMETER[\"longitude_of_center\",-120],PARAMETER[\"false_easting\",0],PARAMETER[\"false_northing\",-4000000],UNIT[\"metre\",1,AUTHORITY[\"EPSG\",\"9001\"]]]'), 'transform': Affine(50.0, 0.0, -373901.4155110012,\n",
      "       0.0, -50.0, 449991.14220000897)}\n"
     ]
    }
   ],
   "source": [
    "fp = \"data/interim/CAMLC2010/California Augmented Multisource Landcover 20101.tif\"\n",
    "\n",
    "raster = rasterio.open(fp)\n",
    "type(raster)\n",
    "\n",
    "# info about raster\n",
    "print(\"raster crs: \", raster.crs)\n",
    "print(\"*********\")\n",
    "print(\"raster bounds: \", raster.bounds)\n",
    "print(\"*********\")\n",
    "print(\"count: \", raster.count)\n",
    "print(\"*********\")\n",
    "print(\"driver: \", raster.driver)\n",
    "print(\"*********\")\n",
    "print(\"metadata: \", raster.meta)\n"
   ]
  },
  {
   "cell_type": "code",
   "execution_count": 13,
   "metadata": {},
   "outputs": [
    {
     "ename": "IndexError",
     "evalue": "band index 4 out of range (not in (1,))",
     "output_type": "error",
     "traceback": [
      "\u001b[0;31m---------------------------------------------------------------------------\u001b[0m",
      "\u001b[0;31mIndexError\u001b[0m                                Traceback (most recent call last)",
      "\u001b[0;32m<ipython-input-13-9bdeffcfb88c>\u001b[0m in \u001b[0;36m<module>\u001b[0;34m()\u001b[0m\n\u001b[0;32m----> 1\u001b[0;31m \u001b[0mshow\u001b[0m\u001b[0;34m(\u001b[0m\u001b[0;34m(\u001b[0m\u001b[0mraster\u001b[0m\u001b[0;34m,\u001b[0m \u001b[0;36m4\u001b[0m\u001b[0;34m)\u001b[0m\u001b[0;34m,\u001b[0m \u001b[0mcmap\u001b[0m\u001b[0;34m=\u001b[0m\u001b[0;34m'Reds'\u001b[0m\u001b[0;34m)\u001b[0m\u001b[0;34m\u001b[0m\u001b[0m\n\u001b[0m",
      "\u001b[0;32m/Users/anayahall/anaconda/lib/python3.6/site-packages/rasterio/plot.py\u001b[0m in \u001b[0;36mshow\u001b[0;34m(source, with_bounds, contour, contour_label_kws, ax, title, transform, adjust, **kwargs)\u001b[0m\n\u001b[1;32m     81\u001b[0m \u001b[0;34m\u001b[0m\u001b[0m\n\u001b[1;32m     82\u001b[0m     \u001b[0;32mif\u001b[0m \u001b[0misinstance\u001b[0m\u001b[0;34m(\u001b[0m\u001b[0msource\u001b[0m\u001b[0;34m,\u001b[0m \u001b[0mtuple\u001b[0m\u001b[0;34m)\u001b[0m\u001b[0;34m:\u001b[0m\u001b[0;34m\u001b[0m\u001b[0m\n\u001b[0;32m---> 83\u001b[0;31m         \u001b[0marr\u001b[0m \u001b[0;34m=\u001b[0m \u001b[0msource\u001b[0m\u001b[0;34m[\u001b[0m\u001b[0;36m0\u001b[0m\u001b[0;34m]\u001b[0m\u001b[0;34m.\u001b[0m\u001b[0mread\u001b[0m\u001b[0;34m(\u001b[0m\u001b[0msource\u001b[0m\u001b[0;34m[\u001b[0m\u001b[0;36m1\u001b[0m\u001b[0;34m]\u001b[0m\u001b[0;34m)\u001b[0m\u001b[0;34m\u001b[0m\u001b[0m\n\u001b[0m\u001b[1;32m     84\u001b[0m         \u001b[0;32mif\u001b[0m \u001b[0mlen\u001b[0m\u001b[0;34m(\u001b[0m\u001b[0marr\u001b[0m\u001b[0;34m.\u001b[0m\u001b[0mshape\u001b[0m\u001b[0;34m)\u001b[0m \u001b[0;34m>=\u001b[0m \u001b[0;36m3\u001b[0m\u001b[0;34m:\u001b[0m\u001b[0;34m\u001b[0m\u001b[0m\n\u001b[1;32m     85\u001b[0m             \u001b[0marr\u001b[0m \u001b[0;34m=\u001b[0m \u001b[0mreshape_as_image\u001b[0m\u001b[0;34m(\u001b[0m\u001b[0marr\u001b[0m\u001b[0;34m)\u001b[0m\u001b[0;34m\u001b[0m\u001b[0m\n",
      "\u001b[0;32mrasterio/_io.pyx\u001b[0m in \u001b[0;36mrasterio._io.DatasetReaderBase.read\u001b[0;34m()\u001b[0m\n",
      "\u001b[0;31mIndexError\u001b[0m: band index 4 out of range (not in (1,))"
     ]
    }
   ],
   "source": [
    "# show((raster, 4), cmap='Reds')"
   ]
  }
 ],
 "metadata": {
  "kernelspec": {
   "display_name": "Python 3",
   "language": "python",
   "name": "python3"
  },
  "language_info": {
   "codemirror_mode": {
    "name": "ipython",
    "version": 3
   },
   "file_extension": ".py",
   "mimetype": "text/x-python",
   "name": "python",
   "nbconvert_exporter": "python",
   "pygments_lexer": "ipython3",
   "version": "3.6.1"
  }
 },
 "nbformat": 4,
 "nbformat_minor": 2
}
