{
 "cells": [
  {
   "cell_type": "code",
   "execution_count": 41,
   "metadata": {},
   "outputs": [],
   "source": [
    "# MINI TEST\n",
    "import pandas as pd\n",
    "import os\n",
    "import numpy as np\n",
    "import shapely as shp\n",
    "import geopandas as gpd\n",
    "\n",
    "import pulp\n",
    "import scipy as sp\n",
    "from geopy.distance import great_circle\n",
    "from geopy.distance import geodesic\n",
    "\n",
    "# import plotly.plotly as py\n",
    "# import plotly.graph_objs as go\n",
    "# from matplotlib import rc\n",
    "\n",
    "os.chdir(\"/Users/anayahall/projects/grapevine\")"
   ]
  },
  {
   "cell_type": "code",
   "execution_count": 108,
   "metadata": {},
   "outputs": [
    {
     "data": {
      "text/html": [
       "<div>\n",
       "<style>\n",
       "    .dataframe thead tr:only-child th {\n",
       "        text-align: right;\n",
       "    }\n",
       "\n",
       "    .dataframe thead th {\n",
       "        text-align: left;\n",
       "    }\n",
       "\n",
       "    .dataframe tbody tr th {\n",
       "        vertical-align: top;\n",
       "    }\n",
       "</style>\n",
       "<table border=\"1\" class=\"dataframe\">\n",
       "  <thead>\n",
       "    <tr style=\"text-align: right;\">\n",
       "      <th></th>\n",
       "      <th>FIPS</th>\n",
       "      <th>COUNTY</th>\n",
       "      <th>disposal.y</th>\n",
       "      <th>geometry</th>\n",
       "    </tr>\n",
       "  </thead>\n",
       "  <tbody>\n",
       "    <tr>\n",
       "      <th>56</th>\n",
       "      <td>6037</td>\n",
       "      <td>Los Angeles</td>\n",
       "      <td>307295.084576</td>\n",
       "      <td>POINT (-118.5720592538903 34.14803912013723)</td>\n",
       "    </tr>\n",
       "    <tr>\n",
       "      <th>3206</th>\n",
       "      <td>6059</td>\n",
       "      <td>Orange</td>\n",
       "      <td>104525.755860</td>\n",
       "      <td>POINT (-117.8563081974633 33.53332689323803)</td>\n",
       "    </tr>\n",
       "    <tr>\n",
       "      <th>4106</th>\n",
       "      <td>6025</td>\n",
       "      <td>Imperial</td>\n",
       "      <td>6751.167110</td>\n",
       "      <td>POINT (-115.5613145428947 32.79849442795177)</td>\n",
       "    </tr>\n",
       "    <tr>\n",
       "      <th>5906</th>\n",
       "      <td>6073</td>\n",
       "      <td>San Diego</td>\n",
       "      <td>113139.598593</td>\n",
       "      <td>POINT (-117.2241057245406 32.94260371968307)</td>\n",
       "    </tr>\n",
       "  </tbody>\n",
       "</table>\n",
       "</div>"
      ],
      "text/plain": [
       "      FIPS       COUNTY     disposal.y  \\\n",
       "56    6037  Los Angeles  307295.084576   \n",
       "3206  6059       Orange  104525.755860   \n",
       "4106  6025     Imperial    6751.167110   \n",
       "5906  6073    San Diego  113139.598593   \n",
       "\n",
       "                                          geometry  \n",
       "56    POINT (-118.5720592538903 34.14803912013723)  \n",
       "3206  POINT (-117.8563081974633 33.53332689323803)  \n",
       "4106  POINT (-115.5613145428947 32.79849442795177)  \n",
       "5906  POINT (-117.2241057245406 32.94260371968307)  "
      ]
     },
     "execution_count": 108,
     "metadata": {},
     "output_type": "execute_result"
    }
   ],
   "source": [
    "# mini gdfs of county wastes (tbm - location and MSW for 2014) \n",
    "c = gpd.read_file(\"data/clean/techbiomass_pts.shp\")\n",
    "#c = c[(c['biomass.ca'] == \"organic fraction municipal solid waste\") & (c['year'] == 2014)].copy()\n",
    "c = c[(c['biomass.fe'] == \"FOOD\") & (c['year'] == 2014)].copy()\n",
    "\n",
    "c = c[['FIPS', 'COUNTY', 'disposal.y', 'geometry']]\n",
    "# subset out four counties\n",
    "csub = c[(c['COUNTY'] == \"Los Angeles\") | (c['COUNTY'] == \"San Diego\")| \n",
    "         (c['COUNTY'] == \"Orange\")| (c['COUNTY'] == \"Imperial\")].copy()\n",
    "# csub = c[(c['COUNTY'] == \"San Diego\")| (c['COUNTY'] == \"Imperial\")].copy()\n",
    "\n",
    "csub\n"
   ]
  },
  {
   "cell_type": "code",
   "execution_count": 109,
   "metadata": {},
   "outputs": [
    {
     "data": {
      "text/plain": [
       "{'Imperial': 6751.16711032454,\n",
       " 'Los Angeles': 307295.084575734,\n",
       " 'Orange': 104525.755860299,\n",
       " 'San Diego': 113139.59859294}"
      ]
     },
     "execution_count": 109,
     "metadata": {},
     "output_type": "execute_result"
    }
   ],
   "source": [
    "####MAKE DICTIONARY HERE\n",
    "cdict = dict(zip(csub['COUNTY'], csub['disposal.y']))\n",
    "cdict"
   ]
  },
  {
   "cell_type": "code",
   "execution_count": 120,
   "metadata": {},
   "outputs": [
    {
     "data": {
      "text/plain": [
       "['30-AB-0378', '19-AR-5584', '37-AB-0011', '13-AA-0095', '19-AA-1060']"
      ]
     },
     "execution_count": 120,
     "metadata": {},
     "output_type": "execute_result"
    }
   ],
   "source": [
    "# Mini gdfs of facilites (location and capacity)\n",
    "f = gpd.read_file(\"data/clean/clean_swis.shp\")\n",
    "# f.head(8)\n",
    "f = f[['SwisNo', 'AcceptedWa', 'County', 'cap_m3', 'geometry']].copy()\n",
    "\n",
    "# subset out four counties\n",
    "fsub = f[(f['County'] == \"Los Angeles\") | (f['County'] == \"San Diego\") | \n",
    "          (f['County'] == \"Orange\")| (f['County'] == \"Imperial\")].copy()\n",
    "# too many, just select first 5\n",
    "fsub = fsub[0:5].copy()\n",
    "fdict = dict(zip(fsub['SwisNo'], fsub['cap_m3'])) #alt is use SwisNo\n",
    "\n",
    "facnames = []\n",
    "for key, value in fdict.items():\n",
    "#     print(key)\n",
    "    facnames.append(key)\n",
    "facnames\n"
   ]
  },
  {
   "cell_type": "code",
   "execution_count": 123,
   "metadata": {},
   "outputs": [
    {
     "data": {
      "text/plain": [
       "{'13-AA-0095': 54803.3024,\n",
       " '19-AA-1060': 9174.66,\n",
       " '19-AR-5584': 33823.9132,\n",
       " '30-AB-0378': 7645.55,\n",
       " '37-AB-0011': 7645.55}"
      ]
     },
     "execution_count": 123,
     "metadata": {},
     "output_type": "execute_result"
    }
   ],
   "source": [
    "fdict\n",
    "# come back to distance matrix - use fake data for now"
   ]
  },
  {
   "cell_type": "code",
   "execution_count": 49,
   "metadata": {},
   "outputs": [],
   "source": [
    "# try using LP solver..................."
   ]
  },
  {
   "cell_type": "code",
   "execution_count": 124,
   "metadata": {},
   "outputs": [
    {
     "name": "stdout",
     "output_type": "stream",
     "text": [
      "Status: Optimal\n",
      "Route_Imperial_13_AA_0095 = 0.0\n",
      "Route_Imperial_19_AA_1060 = 0.0\n",
      "Route_Imperial_19_AR_5584 = 6750.0\n",
      "Route_Imperial_30_AB_0378 = 0.0\n",
      "Route_Imperial_37_AB_0011 = 0.0\n",
      "Route_Los_Angeles_13_AA_0095 = 0.0\n",
      "Route_Los_Angeles_19_AA_1060 = 0.0\n",
      "Route_Los_Angeles_19_AR_5584 = 0.0\n",
      "Route_Los_Angeles_30_AB_0378 = 0.0\n",
      "Route_Los_Angeles_37_AB_0011 = 0.0\n",
      "Route_Orange_13_AA_0095 = 0.0\n",
      "Route_Orange_19_AA_1060 = 9174.0\n",
      "Route_Orange_19_AR_5584 = 0.0\n",
      "Route_Orange_30_AB_0378 = 7645.0\n",
      "Route_Orange_37_AB_0011 = 7645.0\n",
      "Route_San_Diego_13_AA_0095 = 54803.0\n",
      "Route_San_Diego_19_AA_1060 = 0.0\n",
      "Route_San_Diego_19_AR_5584 = 27073.0\n",
      "Route_San_Diego_30_AB_0378 = 0.0\n",
      "Route_San_Diego_37_AB_0011 = 0.0\n",
      "Total Cost of Transportation =  1011972.6\n"
     ]
    }
   ],
   "source": [
    "#FIRST RUN TEST - BASED ON BEER DISTRIBUTION EXAMPLE\n",
    "# Import PuLP modeler functions\n",
    "from pulp import *\n",
    "\n",
    "# Creates a list of all the supply nodes\n",
    "Counties  = [\"Imperial\", \"Los Angeles\", \"Orange\", \"San Diego\"]\n",
    "\n",
    "# Creates a dictionary for the number of units of supply for each supply node\n",
    "waste = cdict\n",
    "\n",
    "# Creates a list of all demand nodes\n",
    "Facilities = facnames\n",
    "\n",
    "# Creates a dictionary for the number of units of demand for each demand node\n",
    "compost = fdict\n",
    "\n",
    "# Creates a list of costs of each transportation path\n",
    "costs = [   #Fac\n",
    "         #2 3 6 10 11\n",
    "         [2,4,5,2,1],#Imp   Counties\n",
    "         [3,1,3,2,3], #LA\n",
    "         [6,1,8,2,5], #ORANGE\n",
    "         [3,4,1,5,3] #SD\n",
    "        ]\n",
    "\n",
    "# The cost data is made into a dictionary\n",
    "costs = makeDict([Counties, Facilities],costs,0)\n",
    "\n",
    "emfac = 1.8\n",
    "\n",
    "# Creates the 'prob' variable to contain the problem data\n",
    "prob = LpProblem(\"Compost Distribution Problem\",LpMaximize)\n",
    "\n",
    "# Creates a list of tuples containing all the possible routes for transport\n",
    "Routes = [(c,f) for c in Counties for f in Facilities]\n",
    "\n",
    "# A dictionary called 'Vars' is created to contain the referenced variables(the routes)\n",
    "vars = LpVariable.dicts(\"Route\",(Counties,Facilities),0,None,LpInteger)\n",
    "\n",
    "# The objective function is added to 'prob' first\n",
    "prob += lpSum([vars[c][f]*costs[c][f]*emfac for (c,f) in Routes]), \"Sum_of_Transporting_Costs\"\n",
    "\n",
    "# # The supply maximum constraints are added to prob for each supply node (warehouse)\n",
    "for c in Counties:\n",
    "    prob += lpSum([vars[c][f] for f in Facilities])<=waste[c], \"Sum_of_waste_out_of_Counties_%s\"%c\n",
    "\n",
    "# The demand minimum constraints are added to prob for each demand node (bar)\n",
    "for f in Facilities:\n",
    "    prob += lpSum([vars[c][f] for c in Counties])<=compost[f], \"Sum_of_compost_into_Facilities_%s\"%f\n",
    "\n",
    "# vars \n",
    "# The problem data is written to an .lp file\n",
    "prob.writeLP(\"CompostDistributionProblem.lp\")\n",
    "\n",
    "# The problem is solved using PuLP's choice of Solver\n",
    "prob.solve()\n",
    "\n",
    "# The status of the solution is printed to the screen\n",
    "print(\"Status:\", LpStatus[prob.status])\n",
    "\n",
    "# Each of the variables is printed with it's resolved optimum value\n",
    "for v in prob.variables():\n",
    "    print(v.name, \"=\", v.varValue)\n",
    "\n",
    "# The optimised objective function value is printed to the screen    \n",
    "print(\"Total Cost of Transportation = \", value(prob.objective))\n"
   ]
  },
  {
   "cell_type": "code",
   "execution_count": null,
   "metadata": {
    "collapsed": true
   },
   "outputs": [],
   "source": []
  },
  {
   "cell_type": "code",
   "execution_count": null,
   "metadata": {},
   "outputs": [],
   "source": []
  },
  {
   "cell_type": "code",
   "execution_count": null,
   "metadata": {
    "collapsed": true
   },
   "outputs": [],
   "source": []
  },
  {
   "cell_type": "code",
   "execution_count": 19,
   "metadata": {},
   "outputs": [
    {
     "name": "stdout",
     "output_type": "stream",
     "text": [
      "Status: Optimal\n",
      "Route_('Chicago',_'Gary') = 4000.0\n",
      "Route_('Chicago',_'Tempe') = 2000.0\n",
      "Route_('Cincinatti',_'Albany') = 2000.0\n",
      "Route_('Cincinatti',_'Houston') = 3000.0\n",
      "Route_('Kansas_City',_'Houston') = 4000.0\n",
      "Route_('Kansas_City',_'Tempe') = 2000.0\n",
      "Route_('Pittsburgh',_'Chicago') = 3000.0\n",
      "Route_('Pittsburgh',_'Cincinatti') = 2000.0\n",
      "Route_('Pittsburgh',_'Gary') = 2000.0\n",
      "Route_('Pittsburgh',_'Kansas_City') = 3000.0\n",
      "Route_('Youngstown',_'Albany') = 1000.0\n",
      "Route_('Youngstown',_'Chicago') = 3000.0\n",
      "Route_('Youngstown',_'Cincinatti') = 3000.0\n",
      "Route_('Youngstown',_'Kansas_City') = 3000.0\n",
      "Total Cost of Transportation =  15005.0\n"
     ]
    }
   ],
   "source": [
    "\"\"\"\n",
    "The American Steel Problem for the PuLP Modeller\n",
    "Authors: Antony Phillips, Dr Stuart Mitchell  2007\n",
    "\"\"\"\n",
    "\n",
    "# Import PuLP modeller functions\n",
    "from pulp import *\n",
    "\n",
    "# List of all the nodes\n",
    "Nodes = [\"Youngstown\",\n",
    "         \"Pittsburgh\",\n",
    "         \"Cincinatti\",\n",
    "         \"Kansas City\",\n",
    "         \"Chicago\",\n",
    "         \"Albany\",\n",
    "         \"Houston\",\n",
    "         \"Tempe\",\n",
    "         \"Gary\"]\n",
    "\n",
    "nodeData = {# NODE        Supply Demand\n",
    "         \"Youngstown\":    [10000,0],\n",
    "         \"Pittsburgh\":    [15000,0],\n",
    "         \"Cincinatti\":    [0,0],\n",
    "         \"Kansas City\":   [0,0],\n",
    "         \"Chicago\":       [0,0],\n",
    "         \"Albany\":        [0,3000],\n",
    "         \"Houston\":       [0,7000],\n",
    "         \"Tempe\":         [0,4000],\n",
    "         \"Gary\":          [0,6000]}\n",
    "\n",
    "# List of all the arcs\n",
    "Arcs = [(\"Youngstown\",\"Albany\"),\n",
    "        (\"Youngstown\",\"Cincinatti\"),\n",
    "        (\"Youngstown\",\"Kansas City\"),\n",
    "        (\"Youngstown\",\"Chicago\"),\n",
    "        (\"Pittsburgh\",\"Cincinatti\"),\n",
    "        (\"Pittsburgh\",\"Kansas City\"),\n",
    "        (\"Pittsburgh\",\"Chicago\"),\n",
    "        (\"Pittsburgh\",\"Gary\"),\n",
    "        (\"Cincinatti\",\"Albany\"),\n",
    "        (\"Cincinatti\",\"Houston\"),\n",
    "        (\"Kansas City\",\"Houston\"),\n",
    "        (\"Kansas City\",\"Tempe\"),\n",
    "        (\"Chicago\",\"Tempe\"),\n",
    "        (\"Chicago\",\"Gary\")]\n",
    "\n",
    "arcData = { #      ARC                Cost Min Max\n",
    "        (\"Youngstown\",\"Albany\"):      [0.5,0,1000],\n",
    "        (\"Youngstown\",\"Cincinatti\"):  [0.35,0,3000],\n",
    "        (\"Youngstown\",\"Kansas City\"): [0.45,1000,5000],\n",
    "        (\"Youngstown\",\"Chicago\"):     [0.375,0,5000],\n",
    "        (\"Pittsburgh\",\"Cincinatti\"):  [0.35,0,2000],\n",
    "        (\"Pittsburgh\",\"Kansas City\"): [0.45,2000,3000],\n",
    "        (\"Pittsburgh\",\"Chicago\"):     [0.4,0,4000],\n",
    "        (\"Pittsburgh\",\"Gary\"):        [0.45,0,2000],\n",
    "        (\"Cincinatti\",\"Albany\"):      [0.35,1000,5000],\n",
    "        (\"Cincinatti\",\"Houston\"):     [0.55,0,6000],\n",
    "        (\"Kansas City\",\"Houston\"):    [0.375,0,4000],\n",
    "        (\"Kansas City\",\"Tempe\"):      [0.65,0,4000],\n",
    "        (\"Chicago\",\"Tempe\"):          [0.6,0,2000],\n",
    "        (\"Chicago\",\"Gary\"):           [0.12,0,4000]}\n",
    "\n",
    "# Splits the dictionaries to be more understandable\n",
    "(supply, demand) = splitDict(nodeData)\n",
    "(costs, mins, maxs) = splitDict(arcData)\n",
    "\n",
    "# Creates the boundless Variables as Integers\n",
    "vars = LpVariable.dicts(\"Route\",Arcs,None,None,LpInteger)\n",
    "\n",
    "# Creates the upper and lower bounds on the variables\n",
    "for a in Arcs:\n",
    "    vars[a].bounds(mins[a], maxs[a])\n",
    "\n",
    "# Creates the 'prob' variable to contain the problem data    \n",
    "prob = LpProblem(\"American Steel Problem\",LpMinimize)\n",
    "\n",
    "# Creates the objective function\n",
    "prob += lpSum([vars[a]* costs[a] for a in Arcs]), \"Total Cost of Transport\"\n",
    "\n",
    "# Creates all problem constraints - this ensures the amount going into each node is at least equal to the amount leaving\n",
    "for n in Nodes:\n",
    "    prob += (supply[n]+ lpSum([vars[(i,j)] for (i,j) in Arcs if j == n]) >=\n",
    "             demand[n]+ lpSum([vars[(i,j)] for (i,j) in Arcs if i == n])), \"Steel Flow Conservation in Node %s\"%n\n",
    "\n",
    "# The problem data is written to an .lp file\n",
    "prob.writeLP(\"AmericanSteelProblem.lp\")\n",
    "\n",
    "# The problem is solved using PuLP's choice of Solver\n",
    "prob.solve()\n",
    "\n",
    "# The status of the solution is printed to the screen\n",
    "print(\"Status:\", LpStatus[prob.status])\n",
    "\n",
    "# Each of the variables is printed with it's resolved optimum value\n",
    "for v in prob.variables():\n",
    "    print(v.name, \"=\", v.varValue)\n",
    "\n",
    "# The optimised objective function value is printed to the screen    \n",
    "print(\"Total Cost of Transportation = \", value(prob.objective))"
   ]
  },
  {
   "cell_type": "code",
   "execution_count": null,
   "metadata": {
    "collapsed": true
   },
   "outputs": [],
   "source": []
  },
  {
   "cell_type": "code",
   "execution_count": null,
   "metadata": {
    "collapsed": true
   },
   "outputs": [],
   "source": []
  }
 ],
 "metadata": {
  "kernelspec": {
   "display_name": "Python 3",
   "language": "python",
   "name": "python3"
  },
  "language_info": {
   "codemirror_mode": {
    "name": "ipython",
    "version": 3
   },
   "file_extension": ".py",
   "mimetype": "text/x-python",
   "name": "python",
   "nbconvert_exporter": "python",
   "pygments_lexer": "ipython3",
   "version": "3.6.1"
  }
 },
 "nbformat": 4,
 "nbformat_minor": 2
}
