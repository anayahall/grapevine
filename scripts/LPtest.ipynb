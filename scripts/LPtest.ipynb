{
 "cells": [
  {
   "cell_type": "code",
   "execution_count": 1,
   "metadata": {},
   "outputs": [],
   "source": [
    "# MINI TEST\n",
    "import pandas as pd\n",
    "import os\n",
    "import numpy as np\n",
    "import shapely as shp\n",
    "import geopandas as gpd\n",
    "\n",
    "import pulp\n",
    "import scipy as sp\n",
    "from geopy.distance import great_circle\n",
    "from geopy.distance import geodesic\n",
    "\n",
    "# import plotly.plotly as py\n",
    "# import plotly.graph_objs as go\n",
    "# from matplotlib import rc\n",
    "\n",
    "os.chdir(\"/Users/anayahall/projects/grapevine\")"
   ]
  },
  {
   "cell_type": "code",
   "execution_count": 3,
   "metadata": {},
   "outputs": [],
   "source": [
    "# mini gdfs of county wastes (tbm - location and MSW for 2014) \n",
    "c = gpd.read_file(\"data/clean/techbiomass_pts.shp\")\n",
    "#c = c[(c['biomass.ca'] == \"organic fraction municipal solid waste\") & (c['year'] == 2014)].copy()\n",
    "c = c[(c['biomass.fe'] == \"FOOD\") & (c['year'] == 2014)].copy()\n",
    "\n",
    "c = c[['FIPS', 'COUNTY', 'disposal.y', 'geometry']]\n",
    "# subset out four counties\n",
    "csub = c[(c['COUNTY'] == \"Los Angeles\") | (c['COUNTY'] == \"San Diego\")| \n",
    "         (c['COUNTY'] == \"Orange\")| (c['COUNTY'] == \"Imperial\")].copy()\n",
    "\n"
   ]
  },
  {
   "cell_type": "code",
   "execution_count": 2,
   "metadata": {
    "collapsed": true
   },
   "outputs": [],
   "source": [
    "# Mini gdfs of facilites (location and capacity)\n",
    "f = gpd.read_file(\"data/clean/clean_swis.shp\")\n",
    "# f.head()\n",
    "f = f[['SwisNo', 'AcceptedWa', 'County', 'cap_m3', 'geometry']].copy()\n",
    "\n",
    "# subset out four counties\n",
    "fsub = f[(f['County'] == \"Los Angeles\") | (f['County'] == \"San Diego\") | \n",
    "          (f['County'] == \"Orange\")| (f['County'] == \"Imperial\")].copy()\n",
    "# too many, just select first 8\n",
    "# fsub = fsub[0:7].copy()"
   ]
  },
  {
   "cell_type": "code",
   "execution_count": 4,
   "metadata": {},
   "outputs": [],
   "source": [
    "# calc euclidian distance between them --> get Dij \n",
    "# (multiply by 1.4 for 'real' distance, and again by '1.6' to proxy Lij)\n",
    "\n",
    "# for i in range(len(csub.index)):\n",
    "#     print(csub.geometry[i])\n",
    "#     for j in range(len(fsub.index)):\n",
    "#         print(j)\n",
    "\n",
    "x = range(1,5)\n",
    "y = range(6,10)\n",
    "\n",
    "# arr = [[]]\n",
    "\n",
    "# for i in : \n",
    "#     arr[]\n",
    "D = csub.distance(fsub)\n",
    "D\n",
    "\n",
    "# arr == [[]]\n",
    "\n",
    "# print('fsub', fsub)\n",
    "# print(csub)\n",
    "\n",
    "# print(fsub)\n",
    "    \n",
    "# {'col1': [1, 2], 'col2': [3, 4]}\n",
    "test = {}\n",
    "\n",
    "# for csubElem in enumerate(csub):\n",
    "count = 0\n",
    "for key, value in csub.items():    \n",
    "    #print('*** KEY', key)\n",
    "    #print('&&& VALUE', value)\n",
    "    currentCount = 'i' + str(count)\n",
    "    test[currentCount] = []\n",
    "    count += 1\n",
    "    for key1, value1 in fsub.items():\n",
    "        point = csub.geometry\n",
    "#         point1 = fsub.geometry\n",
    "#         foo = point.distance(point1)\n",
    "        #print(\"%% FOO\")\n",
    "        test[currentCount].append('point(s)')\n",
    "        \n",
    "# #     print(csub.geometry[i])\n",
    "#     for j in enumerate(fsub):\n",
    "#         print(i, j)\n",
    "\n",
    "# df = pd.DataFrame(data=d)\n",
    "df = pd.DataFrame(data=test)\n",
    "                  \n",
    "\n",
    "\n",
    "\n",
    "        \n",
    "        \n",
    "        "
   ]
  },
  {
   "cell_type": "code",
   "execution_count": 5,
   "metadata": {},
   "outputs": [
    {
     "data": {
      "text/plain": [
       "{'i0': ['point(s)', 'point(s)', 'point(s)', 'point(s)', 'point(s)'],\n",
       " 'i1': ['point(s)', 'point(s)', 'point(s)', 'point(s)', 'point(s)'],\n",
       " 'i2': ['point(s)', 'point(s)', 'point(s)', 'point(s)', 'point(s)'],\n",
       " 'i3': ['point(s)', 'point(s)', 'point(s)', 'point(s)', 'point(s)']}"
      ]
     },
     "execution_count": 5,
     "metadata": {},
     "output_type": "execute_result"
    }
   ],
   "source": [
    "test"
   ]
  },
  {
   "cell_type": "code",
   "execution_count": 6,
   "metadata": {},
   "outputs": [
    {
     "data": {
      "text/html": [
       "<div>\n",
       "<style>\n",
       "    .dataframe thead tr:only-child th {\n",
       "        text-align: right;\n",
       "    }\n",
       "\n",
       "    .dataframe thead th {\n",
       "        text-align: left;\n",
       "    }\n",
       "\n",
       "    .dataframe tbody tr th {\n",
       "        vertical-align: top;\n",
       "    }\n",
       "</style>\n",
       "<table border=\"1\" class=\"dataframe\">\n",
       "  <thead>\n",
       "    <tr style=\"text-align: right;\">\n",
       "      <th></th>\n",
       "      <th>i0</th>\n",
       "      <th>i1</th>\n",
       "      <th>i2</th>\n",
       "      <th>i3</th>\n",
       "    </tr>\n",
       "  </thead>\n",
       "  <tbody>\n",
       "    <tr>\n",
       "      <th>0</th>\n",
       "      <td>point(s)</td>\n",
       "      <td>point(s)</td>\n",
       "      <td>point(s)</td>\n",
       "      <td>point(s)</td>\n",
       "    </tr>\n",
       "    <tr>\n",
       "      <th>1</th>\n",
       "      <td>point(s)</td>\n",
       "      <td>point(s)</td>\n",
       "      <td>point(s)</td>\n",
       "      <td>point(s)</td>\n",
       "    </tr>\n",
       "    <tr>\n",
       "      <th>2</th>\n",
       "      <td>point(s)</td>\n",
       "      <td>point(s)</td>\n",
       "      <td>point(s)</td>\n",
       "      <td>point(s)</td>\n",
       "    </tr>\n",
       "    <tr>\n",
       "      <th>3</th>\n",
       "      <td>point(s)</td>\n",
       "      <td>point(s)</td>\n",
       "      <td>point(s)</td>\n",
       "      <td>point(s)</td>\n",
       "    </tr>\n",
       "    <tr>\n",
       "      <th>4</th>\n",
       "      <td>point(s)</td>\n",
       "      <td>point(s)</td>\n",
       "      <td>point(s)</td>\n",
       "      <td>point(s)</td>\n",
       "    </tr>\n",
       "  </tbody>\n",
       "</table>\n",
       "</div>"
      ],
      "text/plain": [
       "         i0        i1        i2        i3\n",
       "0  point(s)  point(s)  point(s)  point(s)\n",
       "1  point(s)  point(s)  point(s)  point(s)\n",
       "2  point(s)  point(s)  point(s)  point(s)\n",
       "3  point(s)  point(s)  point(s)  point(s)\n",
       "4  point(s)  point(s)  point(s)  point(s)"
      ]
     },
     "execution_count": 6,
     "metadata": {},
     "output_type": "execute_result"
    }
   ],
   "source": [
    "df = pd.DataFrame(data = test)\n",
    "df"
   ]
  },
  {
   "cell_type": "code",
   "execution_count": 5,
   "metadata": {
    "collapsed": true
   },
   "outputs": [],
   "source": [
    "# try using LP solver..................."
   ]
  },
  {
   "cell_type": "code",
   "execution_count": 6,
   "metadata": {
    "collapsed": true
   },
   "outputs": [],
   "source": []
  },
  {
   "cell_type": "code",
   "execution_count": 7,
   "metadata": {
    "collapsed": true
   },
   "outputs": [],
   "source": [
    "\n",
    "\n"
   ]
  }
 ],
 "metadata": {
  "kernelspec": {
   "display_name": "Python 3",
   "language": "python",
   "name": "python3"
  },
  "language_info": {
   "codemirror_mode": {
    "name": "ipython",
    "version": 3
   },
   "file_extension": ".py",
   "mimetype": "text/x-python",
   "name": "python",
   "nbconvert_exporter": "python",
   "pygments_lexer": "ipython3",
   "version": "3.6.1"
  }
 },
 "nbformat": 4,
 "nbformat_minor": 2
}
