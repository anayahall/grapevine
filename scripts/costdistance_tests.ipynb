{
 "cells": [
  {
   "cell_type": "code",
   "execution_count": 4,
   "metadata": {},
   "outputs": [],
   "source": [
    "# MINI TEST\n",
    "import pandas as pd\n",
    "import os\n",
    "import numpy as np\n",
    "import shapely as shp\n",
    "import geopandas as gpd\n",
    "\n",
    "import pulp\n",
    "import scipy as sp\n",
    "from geopy.distance import great_circle\n",
    "from geopy.distance import geodesic\n",
    "from shapely.geometry import Point\n",
    "\n",
    "from scipy.spatial import distance_matrix\n",
    "\n",
    "# import plotly.plotly as py\n",
    "# import plotly.graph_objs as go\n",
    "# from matplotlib import rc\n",
    "\n",
    "os.chdir(\"/Users/anayahall/projects/grapevine\")\n"
   ]
  },
  {
   "cell_type": "code",
   "execution_count": 126,
   "metadata": {},
   "outputs": [],
   "source": [
    "# mini gdfs of county wastes (tbm - location and MSW for 2014) \n",
    "c = gpd.read_file(\"data/clean/techbiomass_pts.shp\")\n",
    "#c = c[(c['biomass.ca'] == \"organic fraction municipal solid waste\") & (c['year'] == 2014)].copy()\n",
    "c = c[(c['biomass.fe'] == \"FOOD\") & (c['year'] == 2014)].copy()\n",
    "\n",
    "c = c[['FIPS', 'COUNTY', 'disposal.y', 'geometry']]\n",
    "# subset out four counties\n",
    "csub = c[(c['COUNTY'] == \"Los Angeles\") | (c['COUNTY'] == \"San Diego\")| \n",
    "         (c['COUNTY'] == \"Orange\")| (c['COUNTY'] == \"Imperial\")].copy()\n",
    "# csub = c[(c['COUNTY'] == \"San Diego\")| (c['COUNTY'] == \"Imperial\")].copy()\n",
    "\n"
   ]
  },
  {
   "cell_type": "code",
   "execution_count": 97,
   "metadata": {},
   "outputs": [
    {
     "ename": "SyntaxError",
     "evalue": "invalid syntax (<ipython-input-97-de5439b6175d>, line 5)",
     "output_type": "error",
     "traceback": [
      "\u001b[0;36m  File \u001b[0;32m\"<ipython-input-97-de5439b6175d>\"\u001b[0;36m, line \u001b[0;32m5\u001b[0m\n\u001b[0;31m    f['coord'] = (x, y) for x,y in zip(f.Latitude, f.Longitude)\u001b[0m\n\u001b[0m                          ^\u001b[0m\n\u001b[0;31mSyntaxError\u001b[0m\u001b[0;31m:\u001b[0m invalid syntax\n"
     ]
    }
   ],
   "source": [
    "# Mini gdfs of facilites (location and capacity)\n",
    "f = gpd.read_file(\"data/clean/clean_swis.shp\")\n",
    "f = f[['SwisNo', 'AcceptedWa', 'County', 'cap_m3', 'geometry']].copy()\n",
    "\n",
    "# subset out four counties\n",
    "fsub = f[(f['County'] == \"Los Angeles\") | (f['County'] == \"San Diego\") | \n",
    "          (f['County'] == \"Orange\")| (f['County'] == \"Imperial\")].copy()\n",
    "# too many, just select first 5\n",
    "fsub = fsub[0:4].copy()\n",
    "fsub"
   ]
  },
  {
   "cell_type": "code",
   "execution_count": 127,
   "metadata": {},
   "outputs": [],
   "source": [
    "def geo_to_coords(df):\n",
    "    df['coord'] = \"\"\n",
    "    for index, row in df.iterrows():\n",
    "    #      print('index', index)\n",
    "    #      print('row', row)\n",
    "         for pt in list(row['geometry'].coords): \n",
    "    #         print(pt)\n",
    "            df.at[index,'coord'] = np.asarray(pt)\n"
   ]
  },
  {
   "cell_type": "code",
   "execution_count": 128,
   "metadata": {},
   "outputs": [
    {
     "data": {
      "text/html": [
       "<div>\n",
       "<style>\n",
       "    .dataframe thead tr:only-child th {\n",
       "        text-align: right;\n",
       "    }\n",
       "\n",
       "    .dataframe thead th {\n",
       "        text-align: left;\n",
       "    }\n",
       "\n",
       "    .dataframe tbody tr th {\n",
       "        vertical-align: top;\n",
       "    }\n",
       "</style>\n",
       "<table border=\"1\" class=\"dataframe\">\n",
       "  <thead>\n",
       "    <tr style=\"text-align: right;\">\n",
       "      <th></th>\n",
       "      <th>FIPS</th>\n",
       "      <th>COUNTY</th>\n",
       "      <th>disposal.y</th>\n",
       "      <th>geometry</th>\n",
       "      <th>coord</th>\n",
       "    </tr>\n",
       "  </thead>\n",
       "  <tbody>\n",
       "    <tr>\n",
       "      <th>56</th>\n",
       "      <td>6037</td>\n",
       "      <td>Los Angeles</td>\n",
       "      <td>307295.084576</td>\n",
       "      <td>POINT (-118.5720592538903 34.14803912013723)</td>\n",
       "      <td>[-118.57205925389029, 34.14803912013723]</td>\n",
       "    </tr>\n",
       "    <tr>\n",
       "      <th>3206</th>\n",
       "      <td>6059</td>\n",
       "      <td>Orange</td>\n",
       "      <td>104525.755860</td>\n",
       "      <td>POINT (-117.8563081974633 33.53332689323803)</td>\n",
       "      <td>[-117.85630819746329, 33.533326893238026]</td>\n",
       "    </tr>\n",
       "    <tr>\n",
       "      <th>4106</th>\n",
       "      <td>6025</td>\n",
       "      <td>Imperial</td>\n",
       "      <td>6751.167110</td>\n",
       "      <td>POINT (-115.5613145428947 32.79849442795177)</td>\n",
       "      <td>[-115.56131454289468, 32.798494427951766]</td>\n",
       "    </tr>\n",
       "    <tr>\n",
       "      <th>5906</th>\n",
       "      <td>6073</td>\n",
       "      <td>San Diego</td>\n",
       "      <td>113139.598593</td>\n",
       "      <td>POINT (-117.2241057245406 32.94260371968307)</td>\n",
       "      <td>[-117.22410572454056, 32.94260371968307]</td>\n",
       "    </tr>\n",
       "  </tbody>\n",
       "</table>\n",
       "</div>"
      ],
      "text/plain": [
       "      FIPS       COUNTY     disposal.y  \\\n",
       "56    6037  Los Angeles  307295.084576   \n",
       "3206  6059       Orange  104525.755860   \n",
       "4106  6025     Imperial    6751.167110   \n",
       "5906  6073    San Diego  113139.598593   \n",
       "\n",
       "                                          geometry  \\\n",
       "56    POINT (-118.5720592538903 34.14803912013723)   \n",
       "3206  POINT (-117.8563081974633 33.53332689323803)   \n",
       "4106  POINT (-115.5613145428947 32.79849442795177)   \n",
       "5906  POINT (-117.2241057245406 32.94260371968307)   \n",
       "\n",
       "                                          coord  \n",
       "56     [-118.57205925389029, 34.14803912013723]  \n",
       "3206  [-117.85630819746329, 33.533326893238026]  \n",
       "4106  [-115.56131454289468, 32.798494427951766]  \n",
       "5906   [-117.22410572454056, 32.94260371968307]  "
      ]
     },
     "execution_count": 128,
     "metadata": {},
     "output_type": "execute_result"
    }
   ],
   "source": [
    "geo_to_coords(csub)\n",
    "geo_to_coords(fsub)"
   ]
  },
  {
   "cell_type": "code",
   "execution_count": 129,
   "metadata": {},
   "outputs": [
    {
     "data": {
      "text/html": [
       "<div>\n",
       "<style>\n",
       "    .dataframe thead tr:only-child th {\n",
       "        text-align: right;\n",
       "    }\n",
       "\n",
       "    .dataframe thead th {\n",
       "        text-align: left;\n",
       "    }\n",
       "\n",
       "    .dataframe tbody tr th {\n",
       "        vertical-align: top;\n",
       "    }\n",
       "</style>\n",
       "<table border=\"1\" class=\"dataframe\">\n",
       "  <thead>\n",
       "    <tr style=\"text-align: right;\">\n",
       "      <th></th>\n",
       "      <th>SwisNo</th>\n",
       "      <th>AcceptedWa</th>\n",
       "      <th>County</th>\n",
       "      <th>cap_m3</th>\n",
       "      <th>geometry</th>\n",
       "      <th>coord</th>\n",
       "    </tr>\n",
       "  </thead>\n",
       "  <tbody>\n",
       "    <tr>\n",
       "      <th>2</th>\n",
       "      <td>30-AB-0378</td>\n",
       "      <td>Green Materials</td>\n",
       "      <td>Orange</td>\n",
       "      <td>7645.5500</td>\n",
       "      <td>POINT (-117.7249 33.60377)</td>\n",
       "      <td>[-117.7249, 33.603770000000004]</td>\n",
       "    </tr>\n",
       "    <tr>\n",
       "      <th>3</th>\n",
       "      <td>19-AR-5584</td>\n",
       "      <td>Green Materials</td>\n",
       "      <td>Los Angeles</td>\n",
       "      <td>33823.9132</td>\n",
       "      <td>POINT (-118.27222 34.11722)</td>\n",
       "      <td>[-118.27221999999999, 34.11722]</td>\n",
       "    </tr>\n",
       "    <tr>\n",
       "      <th>6</th>\n",
       "      <td>37-AB-0011</td>\n",
       "      <td>Green Materials</td>\n",
       "      <td>San Diego</td>\n",
       "      <td>7645.5500</td>\n",
       "      <td>POINT (-117.1805 32.8622)</td>\n",
       "      <td>[-117.1805, 32.8622]</td>\n",
       "    </tr>\n",
       "    <tr>\n",
       "      <th>10</th>\n",
       "      <td>13-AA-0095</td>\n",
       "      <td>Agricultural,Manure</td>\n",
       "      <td>Imperial</td>\n",
       "      <td>54803.3024</td>\n",
       "      <td>POINT (-115.40676 32.97484)</td>\n",
       "      <td>[-115.40676, 32.97484]</td>\n",
       "    </tr>\n",
       "  </tbody>\n",
       "</table>\n",
       "</div>"
      ],
      "text/plain": [
       "        SwisNo           AcceptedWa       County      cap_m3  \\\n",
       "2   30-AB-0378      Green Materials       Orange   7645.5500   \n",
       "3   19-AR-5584      Green Materials  Los Angeles  33823.9132   \n",
       "6   37-AB-0011      Green Materials    San Diego   7645.5500   \n",
       "10  13-AA-0095  Agricultural,Manure     Imperial  54803.3024   \n",
       "\n",
       "                       geometry                            coord  \n",
       "2    POINT (-117.7249 33.60377)  [-117.7249, 33.603770000000004]  \n",
       "3   POINT (-118.27222 34.11722)  [-118.27221999999999, 34.11722]  \n",
       "6     POINT (-117.1805 32.8622)             [-117.1805, 32.8622]  \n",
       "10  POINT (-115.40676 32.97484)           [-115.40676, 32.97484]  "
      ]
     },
     "execution_count": 129,
     "metadata": {},
     "output_type": "execute_result"
    }
   ],
   "source": []
  },
  {
   "cell_type": "code",
   "execution_count": 156,
   "metadata": {},
   "outputs": [
    {
     "name": "stdout",
     "output_type": "stream",
     "text": [
      "type C:  <class 'list'>\n"
     ]
    },
    {
     "data": {
      "text/plain": [
       "list"
      ]
     },
     "execution_count": 156,
     "metadata": {},
     "output_type": "execute_result"
    }
   ],
   "source": [
    "# t = [[0,0],[0,1]]\n",
    "\n",
    "C = list(csub.coord)\n",
    "F = list(fsub.coord)\n",
    "\n",
    "print(\"type C: \", type(C))\n",
    "# print(\"type t: \", type(t))\n",
    "\n",
    "#  pd.DataFrame(distance_matrix(df.values, df.values), index=df.index, columns=df.index)\n",
    "mycosts = pd.DataFrame(distance_matrix(C, F), index = csub.COUNTY, columns = fsub.SwisNo)\n",
    "## HORRAY THIS WORKS!! TRYING AGAIN TO GET INTO DIFFERNT FORMAT.... list of lists \n",
    "\n",
    "# distance_matrix(C,F)\n",
    "\n",
    "costs = [   #Fac\n",
    "         #2 3 6 10 11\n",
    "         [2,4,5,2,1],#Imp   Counties\n",
    "         [3,1,3,2,3], #LA\n",
    "         [6,1,8,2,5], #ORANGE\n",
    "         [3,4,1,5,3] #SD\n",
    "        ]\n",
    "\n",
    "type(costs)"
   ]
  },
  {
   "cell_type": "code",
   "execution_count": 160,
   "metadata": {},
   "outputs": [
    {
     "name": "stdout",
     "output_type": "stream",
     "text": [
      "type test1:  <class 'list'>\n"
     ]
    },
    {
     "data": {
      "text/plain": [
       "[array([1.00692983, 0.30141897, 1.89468187, 3.37572445]),\n",
       " array([0.14909844, 0.71687781, 0.95243269, 2.512408  ]),\n",
       " array([2.30858632, 3.01463854, 1.6204382 , 0.23448852]),\n",
       " array([0.82941893, 1.57425123, 0.09146703, 1.81763161])]"
      ]
     },
     "execution_count": 160,
     "metadata": {},
     "output_type": "execute_result"
    }
   ],
   "source": [
    "test1 = list(distance_matrix(C,F))\n",
    "\n",
    "print(\"type test1: \", type(test1))\n",
    "test1"
   ]
  },
  {
   "cell_type": "code",
   "execution_count": 161,
   "metadata": {},
   "outputs": [],
   "source": [
    "# from sklearn.metrics.pairwise import paired_distances >> FAILED\n",
    "# C = np.asarray(csub.coord)\n",
    "# F = np.asarray(fsub.coord)\n",
    "# paired_distances(C,F)"
   ]
  },
  {
   "cell_type": "code",
   "execution_count": null,
   "metadata": {},
   "outputs": [],
   "source": []
  },
  {
   "cell_type": "code",
   "execution_count": null,
   "metadata": {},
   "outputs": [],
   "source": [
    "# calc euclidian distance between them --> get Dij \n",
    "# (multiply by 1.4 for 'real' distance, and again by '1.6' to proxy Lij)\n",
    "\n",
    "# for i in range(len(csub.index)):\n",
    "#     print(csub.geometry[i])\n",
    "#     for j in range(len(fsub.index)):\n",
    "#         print(j)\n",
    "\n",
    "x = range(1,5)\n",
    "y = range(6,10)\n",
    "\n",
    "# arr = [[]]\n",
    "\n",
    "# for i in : \n",
    "#     arr[]\n",
    "D = csub.distance(fsub)\n",
    "D\n",
    "\n",
    "# arr == [[]]\n",
    "\n",
    "# print('fsub', fsub)\n",
    "# print(csub)\n",
    "\n",
    "# print(fsub)\n",
    "    \n",
    "# {'col1': [1, 2], 'col2': [3, 4]}\n",
    "test = {}\n",
    "\n",
    "# for csubElem in enumerate(csub):\n",
    "count = 0\n",
    "for key, value in csub.items():    \n",
    "    #print('*** KEY', key)\n",
    "    #print('&&& VALUE', value)\n",
    "    currentCount = 'i' + str(count)\n",
    "    test[currentCount] = []\n",
    "    count += 1\n",
    "    for key1, value1 in fsub.items():\n",
    "        point = csub.geometry\n",
    "#         point1 = fsub.geometry\n",
    "#         foo = point.distance(point1)\n",
    "        #print(\"%% FOO\")\n",
    "        test[currentCount].append('point(s)')\n",
    "        \n",
    "# #     print(csub.geometry[i])\n",
    "#     for j in enumerate(fsub):\n",
    "#         print(i, j)\n",
    "df = pd.DataFrame(data = test).T #this will transpose it\n",
    "# df"
   ]
  }
 ],
 "metadata": {
  "kernelspec": {
   "display_name": "Python 3",
   "language": "python",
   "name": "python3"
  },
  "language_info": {
   "codemirror_mode": {
    "name": "ipython",
    "version": 3
   },
   "file_extension": ".py",
   "mimetype": "text/x-python",
   "name": "python",
   "nbconvert_exporter": "python",
   "pygments_lexer": "ipython3",
   "version": "3.6.1"
  }
 },
 "nbformat": 4,
 "nbformat_minor": 2
}
