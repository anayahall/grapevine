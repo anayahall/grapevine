{
 "cells": [
  {
   "cell_type": "code",
   "execution_count": 5,
   "metadata": {
    "collapsed": true
   },
   "outputs": [],
   "source": [
    "# transport networks\n",
    "# network x tutorial: https://www.datacamp.com/community/tutorials/networkx-python-graph-tutorial\n",
    "# reading fgdbs: https://gis.stackexchange.com/questions/32762/how-to-access-feature-classes-in-file-geodatabases-with-python-and-gdal\n",
    "\n",
    "# load packages\n",
    "import geopandas as gpd\n",
    "import fiona \n",
    "import os\n",
    "#create a list of layers with in a file geodatabase \n"
   ]
  },
  {
   "cell_type": "code",
   "execution_count": 8,
   "metadata": {},
   "outputs": [
    {
     "data": {
      "text/plain": [
       "str"
      ]
     },
     "execution_count": 8,
     "metadata": {},
     "output_type": "execute_result"
    }
   ],
   "source": [
    "# import geodatabase files?\n",
    "os.chdir(\"/Users/anayahall/projects/grapevine\")\n",
    "\n",
    "\n",
    "fgdb = 'data/roadways/District 4/District_4.gdb'\n",
    "\n",
    "# layerlist = fiona.listlayers(fgdb)\n",
    "# print(layerlist)\n",
    "# for i in sorted(layerlist):\n",
    "#     df1 = gpd.read_file(fgdb,layer=i)\n",
    "\n",
    "\n",
    "type(fgdb)"
   ]
  },
  {
   "cell_type": "code",
   "execution_count": null,
   "metadata": {
    "collapsed": true
   },
   "outputs": [],
   "source": [
    "# "
   ]
  }
 ],
 "metadata": {
  "kernelspec": {
   "display_name": "Python 3",
   "language": "python",
   "name": "python3"
  },
  "language_info": {
   "codemirror_mode": {
    "name": "ipython",
    "version": 3
   },
   "file_extension": ".py",
   "mimetype": "text/x-python",
   "name": "python",
   "nbconvert_exporter": "python",
   "pygments_lexer": "ipython3",
   "version": "3.6.1"
  }
 },
 "nbformat": 4,
 "nbformat_minor": 2
}
